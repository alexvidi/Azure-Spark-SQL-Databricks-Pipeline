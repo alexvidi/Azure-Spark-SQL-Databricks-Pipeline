{
 "cells": [
  {
   "cell_type": "code",
   "execution_count": 0,
   "metadata": {
    "application/vnd.databricks.v1+cell": {
     "cellMetadata": {
      "byteLimit": 2048000,
      "rowLimit": 10000
     },
     "inputWidgets": {},
     "nuid": "f3650713-ca48-4476-977d-1c9cdd5b91dd",
     "showTitle": false,
     "tableResultSettingsMap": {},
     "title": ""
    }
   },
   "outputs": [],
   "source": [
    "storage_account_name = \"datalakealexvidal\"\n",
    "storage_account_key = \"KEYS\"  # Replace with your key\n",
    "\n",
    "# Set up access to Azure Blob Storage\n",
    "spark.conf.set(\n",
    "    f\"fs.azure.account.key.{storage_account_name}.blob.core.windows.net\",\n",
    "    storage_account_key\n",
    ")\n",
    "\n",
    "# Define file path in Azure Blob Storage\n",
    "container_name = \"raw-data-1\"\n",
    "file_name = \"jsonplaceholder_posts.json\"\n",
    "storage_path = f\"wasbs://{container_name}@{storage_account_name}.blob.core.windows.net/{file_name}\"\n"
   ]
  },
  {
   "cell_type": "code",
   "execution_count": 0,
   "metadata": {
    "application/vnd.databricks.v1+cell": {
     "cellMetadata": {
      "byteLimit": 2048000,
      "rowLimit": 10000
     },
     "inputWidgets": {},
     "nuid": "60a2605f-e7fc-4091-b91c-cea5c15b53bc",
     "showTitle": false,
     "tableResultSettingsMap": {},
     "title": ""
    }
   },
   "outputs": [
    {
     "name": "stdout",
     "output_type": "stream",
     "text": [
      "+-----------------------------------------------------------------------------------------------------------------------------------------------------------------------------------------------------------------+---+--------------------------------------------------------------------------+------+\n",
      "|body                                                                                                                                                                                                             |id |title                                                                     |userId|\n",
      "+-----------------------------------------------------------------------------------------------------------------------------------------------------------------------------------------------------------------+---+--------------------------------------------------------------------------+------+\n",
      "|quia et suscipit\\nsuscipit recusandae consequuntur expedita et cum\\nreprehenderit molestiae ut ut quas totam\\nnostrum rerum est autem sunt rem eveniet architecto                                                |1  |sunt aut facere repellat provident occaecati excepturi optio reprehenderit|1     |\n",
      "|est rerum tempore vitae\\nsequi sint nihil reprehenderit dolor beatae ea dolores neque\\nfugiat blanditiis voluptate porro vel nihil molestiae ut reiciendis\\nqui aperiam non debitis possimus qui neque nisi nulla|2  |qui est esse                                                              |1     |\n",
      "|et iusto sed quo iure\\nvoluptatem occaecati omnis eligendi aut ad\\nvoluptatem doloribus vel accusantium quis pariatur\\nmolestiae porro eius odio et labore et velit aut                                          |3  |ea molestias quasi exercitationem repellat qui ipsa sit aut               |1     |\n",
      "|ullam et saepe reiciendis voluptatem adipisci\\nsit amet autem assumenda provident rerum culpa\\nquis hic commodi nesciunt rem tenetur doloremque ipsam iure\\nquis sunt voluptatem rerum illo velit                |4  |eum et est occaecati                                                      |1     |\n",
      "|repudiandae veniam quaerat sunt sed\\nalias aut fugiat sit autem sed est\\nvoluptatem omnis possimus esse voluptatibus quis\\nest aut tenetur dolor neque                                                           |5  |nesciunt quas odio                                                        |1     |\n",
      "+-----------------------------------------------------------------------------------------------------------------------------------------------------------------------------------------------------------------+---+--------------------------------------------------------------------------+------+\n",
      "only showing top 5 rows\n",
      "\n"
     ]
    }
   ],
   "source": [
    "# Read the JSON file from Azure Blob Storage\n",
    "df = spark.read.option(\"multiline\", \"true\").json(storage_path)\n",
    "\n",
    "# Show the first rows\n",
    "df.show(5, truncate=False)"
   ]
  },
  {
   "cell_type": "code",
   "execution_count": 0,
   "metadata": {
    "application/vnd.databricks.v1+cell": {
     "cellMetadata": {
      "byteLimit": 2048000,
      "rowLimit": 10000
     },
     "inputWidgets": {},
     "nuid": "22a2c209-1b3b-45c4-8460-1f0f1ddbf611",
     "showTitle": false,
     "tableResultSettingsMap": {},
     "title": ""
    }
   },
   "outputs": [
    {
     "data": {
      "text/html": [
       "<style scoped>\n",
       "  .table-result-container {\n",
       "    max-height: 300px;\n",
       "    overflow: auto;\n",
       "  }\n",
       "  table, th, td {\n",
       "    border: 1px solid black;\n",
       "    border-collapse: collapse;\n",
       "  }\n",
       "  th, td {\n",
       "    padding: 5px;\n",
       "  }\n",
       "  th {\n",
       "    text-align: left;\n",
       "  }\n",
       "</style><div class='table-result-container'><table class='table-result'><thead style='background-color: white'><tr><th>body</th><th>id</th><th>title</th><th>userId</th></tr></thead><tbody><tr><td>quia et suscipit\n",
       "suscipit recusandae consequuntur expedita et cum\n",
       "reprehenderit molestiae ut ut quas totam\n",
       "nostrum rerum est autem sunt rem eveniet architecto</td><td>1</td><td>sunt aut facere repellat provident occaecati excepturi optio reprehenderit</td><td>1</td></tr><tr><td>est rerum tempore vitae\n",
       "sequi sint nihil reprehenderit dolor beatae ea dolores neque\n",
       "fugiat blanditiis voluptate porro vel nihil molestiae ut reiciendis\n",
       "qui aperiam non debitis possimus qui neque nisi nulla</td><td>2</td><td>qui est esse</td><td>1</td></tr><tr><td>et iusto sed quo iure\n",
       "voluptatem occaecati omnis eligendi aut ad\n",
       "voluptatem doloribus vel accusantium quis pariatur\n",
       "molestiae porro eius odio et labore et velit aut</td><td>3</td><td>ea molestias quasi exercitationem repellat qui ipsa sit aut</td><td>1</td></tr><tr><td>ullam et saepe reiciendis voluptatem adipisci\n",
       "sit amet autem assumenda provident rerum culpa\n",
       "quis hic commodi nesciunt rem tenetur doloremque ipsam iure\n",
       "quis sunt voluptatem rerum illo velit</td><td>4</td><td>eum et est occaecati</td><td>1</td></tr><tr><td>repudiandae veniam quaerat sunt sed\n",
       "alias aut fugiat sit autem sed est\n",
       "voluptatem omnis possimus esse voluptatibus quis\n",
       "est aut tenetur dolor neque</td><td>5</td><td>nesciunt quas odio</td><td>1</td></tr><tr><td>ut aspernatur corporis harum nihil quis provident sequi\n",
       "mollitia nobis aliquid molestiae\n",
       "perspiciatis et ea nemo ab reprehenderit accusantium quas\n",
       "voluptate dolores velit et doloremque molestiae</td><td>6</td><td>dolorem eum magni eos aperiam quia</td><td>1</td></tr><tr><td>dolore placeat quibusdam ea quo vitae\n",
       "magni quis enim qui quis quo nemo aut saepe\n",
       "quidem repellat excepturi ut quia\n",
       "sunt ut sequi eos ea sed quas</td><td>7</td><td>magnam facilis autem</td><td>1</td></tr><tr><td>dignissimos aperiam dolorem qui eum\n",
       "facilis quibusdam animi sint suscipit qui sint possimus cum\n",
       "quaerat magni maiores excepturi\n",
       "ipsam ut commodi dolor voluptatum modi aut vitae</td><td>8</td><td>dolorem dolore est ipsam</td><td>1</td></tr><tr><td>consectetur animi nesciunt iure dolore\n",
       "enim quia ad\n",
       "veniam autem ut quam aut nobis\n",
       "et est aut quod aut provident voluptas autem voluptas</td><td>9</td><td>nesciunt iure omnis dolorem tempora et accusantium</td><td>1</td></tr><tr><td>quo et expedita modi cum officia vel magni\n",
       "doloribus qui repudiandae\n",
       "vero nisi sit\n",
       "quos veniam quod sed accusamus veritatis error</td><td>10</td><td>optio molestias id quia eum</td><td>1</td></tr><tr><td>delectus reiciendis molestiae occaecati non minima eveniet qui voluptatibus\n",
       "accusamus in eum beatae sit\n",
       "vel qui neque voluptates ut commodi qui incidunt\n",
       "ut animi commodi</td><td>11</td><td>et ea vero quia laudantium autem</td><td>2</td></tr><tr><td>itaque id aut magnam\n",
       "praesentium quia et ea odit et ea voluptas et\n",
       "sapiente quia nihil amet occaecati quia id voluptatem\n",
       "incidunt ea est distinctio odio</td><td>12</td><td>in quibusdam tempore odit est dolorem</td><td>2</td></tr><tr><td>aut dicta possimus sint mollitia voluptas commodi quo doloremque\n",
       "iste corrupti reiciendis voluptatem eius rerum\n",
       "sit cumque quod eligendi laborum minima\n",
       "perferendis recusandae assumenda consectetur porro architecto ipsum ipsam</td><td>13</td><td>dolorum ut in voluptas mollitia et saepe quo animi</td><td>2</td></tr><tr><td>fuga et accusamus dolorum perferendis illo voluptas\n",
       "non doloremque neque facere\n",
       "ad qui dolorum molestiae beatae\n",
       "sed aut voluptas totam sit illum</td><td>14</td><td>voluptatem eligendi optio</td><td>2</td></tr><tr><td>reprehenderit quos placeat\n",
       "velit minima officia dolores impedit repudiandae molestiae nam\n",
       "voluptas recusandae quis delectus\n",
       "officiis harum fugiat vitae</td><td>15</td><td>eveniet quod temporibus</td><td>2</td></tr><tr><td>suscipit nam nisi quo aperiam aut\n",
       "asperiores eos fugit maiores voluptatibus quia\n",
       "voluptatem quis ullam qui in alias quia est\n",
       "consequatur magni mollitia accusamus ea nisi voluptate dicta</td><td>16</td><td>sint suscipit perspiciatis velit dolorum rerum ipsa laboriosam odio</td><td>2</td></tr><tr><td>eos voluptas et aut odit natus earum\n",
       "aspernatur fuga molestiae ullam\n",
       "deserunt ratione qui eos\n",
       "qui nihil ratione nemo velit ut aut id quo</td><td>17</td><td>fugit voluptas sed molestias voluptatem provident</td><td>2</td></tr><tr><td>eveniet quo quis\n",
       "laborum totam consequatur non dolor\n",
       "ut et est repudiandae\n",
       "est voluptatem vel debitis et magnam</td><td>18</td><td>voluptate et itaque vero tempora molestiae</td><td>2</td></tr><tr><td>illum quis cupiditate provident sit magnam\n",
       "ea sed aut omnis\n",
       "veniam maiores ullam consequatur atque\n",
       "adipisci quo iste expedita sit quos voluptas</td><td>19</td><td>adipisci placeat illum aut reiciendis qui</td><td>2</td></tr><tr><td>qui consequuntur ducimus possimus quisquam amet similique\n",
       "suscipit porro ipsam amet\n",
       "eos veritatis officiis exercitationem vel fugit aut necessitatibus totam\n",
       "omnis rerum consequatur expedita quidem cumque explicabo</td><td>20</td><td>doloribus ad provident suscipit at</td><td>2</td></tr><tr><td>repellat aliquid praesentium dolorem quo\n",
       "sed totam minus non itaque\n",
       "nihil labore molestiae sunt dolor eveniet hic recusandae veniam\n",
       "tempora et tenetur expedita sunt</td><td>21</td><td>asperiores ea ipsam voluptatibus modi minima quia sint</td><td>3</td></tr><tr><td>eos qui et ipsum ipsam suscipit aut\n",
       "sed omnis non odio\n",
       "expedita earum mollitia molestiae aut atque rem suscipit\n",
       "nam impedit esse</td><td>22</td><td>dolor sint quo a velit explicabo quia nam</td><td>3</td></tr><tr><td>veritatis unde neque eligendi\n",
       "quae quod architecto quo neque vitae\n",
       "est illo sit tempora doloremque fugit quod\n",
       "et et vel beatae sequi ullam sed tenetur perspiciatis</td><td>23</td><td>maxime id vitae nihil numquam</td><td>3</td></tr><tr><td>enim et ex nulla\n",
       "omnis voluptas quia qui\n",
       "voluptatem consequatur numquam aliquam sunt\n",
       "totam recusandae id dignissimos aut sed asperiores deserunt</td><td>24</td><td>autem hic labore sunt dolores incidunt</td><td>3</td></tr><tr><td>ullam consequatur ut\n",
       "omnis quis sit vel consequuntur\n",
       "ipsa eligendi ipsum molestiae et omnis error nostrum\n",
       "molestiae illo tempore quia et distinctio</td><td>25</td><td>rem alias distinctio quo quis</td><td>3</td></tr><tr><td>similique esse doloribus nihil accusamus\n",
       "omnis dolorem fuga consequuntur reprehenderit fugit recusandae temporibus\n",
       "perspiciatis cum ut laudantium\n",
       "omnis aut molestiae vel vero</td><td>26</td><td>est et quae odit qui non</td><td>3</td></tr><tr><td>eum sed dolores ipsam sint possimus debitis occaecati\n",
       "debitis qui qui et\n",
       "ut placeat enim earum aut odit facilis\n",
       "consequatur suscipit necessitatibus rerum sed inventore temporibus consequatur</td><td>27</td><td>quasi id et eos tenetur aut quo autem</td><td>3</td></tr><tr><td>non et quaerat ex quae ad maiores\n",
       "maiores recusandae totam aut blanditiis mollitia quas illo\n",
       "ut voluptatibus voluptatem\n",
       "similique nostrum eum</td><td>28</td><td>delectus ullam et corporis nulla voluptas sequi</td><td>3</td></tr><tr><td>odit magnam ut saepe sed non qui\n",
       "tempora atque nihil\n",
       "accusamus illum doloribus illo dolor\n",
       "eligendi repudiandae odit magni similique sed cum maiores</td><td>29</td><td>iusto eius quod necessitatibus culpa ea</td><td>3</td></tr><tr><td>alias dolor cumque\n",
       "impedit blanditiis non eveniet odio maxime\n",
       "blanditiis amet eius quis tempora quia autem rem\n",
       "a provident perspiciatis quia</td><td>30</td><td>a quo magni similique perferendis</td><td>3</td></tr><tr><td>debitis eius sed quibusdam non quis consectetur vitae\n",
       "impedit ut qui consequatur sed aut in\n",
       "quidem sit nostrum et maiores adipisci atque\n",
       "quaerat voluptatem adipisci repudiandae</td><td>31</td><td>ullam ut quidem id aut vel consequuntur</td><td>4</td></tr><tr><td>deserunt eos nobis asperiores et hic\n",
       "est debitis repellat molestiae optio\n",
       "nihil ratione ut eos beatae quibusdam distinctio maiores\n",
       "earum voluptates et aut adipisci ea maiores voluptas maxime</td><td>32</td><td>doloremque illum aliquid sunt</td><td>4</td></tr><tr><td>rerum ut et numquam laborum odit est sit\n",
       "id qui sint in\n",
       "quasi tenetur tempore aperiam et quaerat qui in\n",
       "rerum officiis sequi cumque quod</td><td>33</td><td>qui explicabo molestiae dolorem</td><td>4</td></tr><tr><td>ea velit perferendis earum ut voluptatem voluptate itaque iusto\n",
       "totam pariatur in\n",
       "nemo voluptatem voluptatem autem magni tempora minima in\n",
       "est distinctio qui assumenda accusamus dignissimos officia nesciunt nobis</td><td>34</td><td>magnam ut rerum iure</td><td>4</td></tr><tr><td>nisi error delectus possimus ut eligendi vitae\n",
       "placeat eos harum cupiditate facilis reprehenderit voluptatem beatae\n",
       "modi ducimus quo illum voluptas eligendi\n",
       "et nobis quia fugit</td><td>35</td><td>id nihil consequatur molestias animi provident</td><td>4</td></tr><tr><td>ad mollitia et omnis minus architecto odit\n",
       "voluptas doloremque maxime aut non ipsa qui alias veniam\n",
       "blanditiis culpa aut quia nihil cumque facere et occaecati\n",
       "qui aspernatur quia eaque ut aperiam inventore</td><td>36</td><td>fuga nam accusamus voluptas reiciendis itaque</td><td>4</td></tr><tr><td>debitis et eaque non officia sed nesciunt pariatur vel\n",
       "voluptatem iste vero et ea\n",
       "numquam aut expedita ipsum nulla in\n",
       "voluptates omnis consequatur aut enim officiis in quam qui</td><td>37</td><td>provident vel ut sit ratione est</td><td>4</td></tr><tr><td>animi esse sit aut sit nesciunt assumenda eum voluptas\n",
       "quia voluptatibus provident quia necessitatibus ea\n",
       "rerum repudiandae quia voluptatem delectus fugit aut id quia\n",
       "ratione optio eos iusto veniam iure</td><td>38</td><td>explicabo et eos deleniti nostrum ab id repellendus</td><td>4</td></tr><tr><td>corporis rerum ducimus vel eum accusantium\n",
       "maxime aspernatur a porro possimus iste omnis\n",
       "est in deleniti asperiores fuga aut\n",
       "voluptas sapiente vel dolore minus voluptatem incidunt ex</td><td>39</td><td>eos dolorem iste accusantium est eaque quam</td><td>4</td></tr><tr><td>ut voluptatum aliquid illo tenetur nemo sequi quo facilis\n",
       "ipsum rem optio mollitia quas\n",
       "voluptatem eum voluptas qui\n",
       "unde omnis voluptatem iure quasi maxime voluptas nam</td><td>40</td><td>enim quo cumque</td><td>4</td></tr><tr><td>molestias id nostrum\n",
       "excepturi molestiae dolore omnis repellendus quaerat saepe\n",
       "consectetur iste quaerat tenetur asperiores accusamus ex ut\n",
       "nam quidem est ducimus sunt debitis saepe</td><td>41</td><td>non est facere</td><td>5</td></tr><tr><td>odio fugit voluptatum ducimus earum autem est incidunt voluptatem\n",
       "odit reiciendis aliquam sunt sequi nulla dolorem\n",
       "non facere repellendus voluptates quia\n",
       "ratione harum vitae ut</td><td>42</td><td>commodi ullam sint et excepturi error explicabo praesentium voluptas</td><td>5</td></tr><tr><td>similique fugit est\n",
       "illum et dolorum harum et voluptate eaque quidem\n",
       "exercitationem quos nam commodi possimus cum odio nihil nulla\n",
       "dolorum exercitationem magnam ex et a et distinctio debitis</td><td>43</td><td>eligendi iste nostrum consequuntur adipisci praesentium sit beatae perferendis</td><td>5</td></tr><tr><td>temporibus est consectetur dolore\n",
       "et libero debitis vel velit laboriosam quia\n",
       "ipsum quibusdam qui itaque fuga rem aut\n",
       "ea et iure quam sed maxime ut distinctio quae</td><td>44</td><td>optio dolor molestias sit</td><td>5</td></tr><tr><td>est natus reiciendis nihil possimus aut provident\n",
       "ex et dolor\n",
       "repellat pariatur est\n",
       "nobis rerum repellendus dolorem autem</td><td>45</td><td>ut numquam possimus omnis eius suscipit laudantium iure</td><td>5</td></tr><tr><td>voluptatem quisquam iste\n",
       "voluptatibus natus officiis facilis dolorem\n",
       "quis quas ipsam\n",
       "vel et voluptatum in aliquid</td><td>46</td><td>aut quo modi neque nostrum ducimus</td><td>5</td></tr><tr><td>voluptatem assumenda ut qui ut cupiditate aut impedit veniam\n",
       "occaecati nemo illum voluptatem laudantium\n",
       "molestiae beatae rerum ea iure soluta nostrum\n",
       "eligendi et voluptate</td><td>47</td><td>quibusdam cumque rem aut deserunt</td><td>5</td></tr><tr><td>voluptates quo voluptatem facilis iure occaecati\n",
       "vel assumenda rerum officia et\n",
       "illum perspiciatis ab deleniti\n",
       "laudantium repellat ad ut et autem reprehenderit</td><td>48</td><td>ut voluptatem illum ea doloribus itaque eos</td><td>5</td></tr><tr><td>inventore ab sint\n",
       "natus fugit id nulla sequi architecto nihil quaerat\n",
       "eos tenetur in in eum veritatis non\n",
       "quibusdam officiis aspernatur cumque aut commodi aut</td><td>49</td><td>laborum non sunt aut ut assumenda perspiciatis voluptas</td><td>5</td></tr><tr><td>error suscipit maxime adipisci consequuntur recusandae\n",
       "voluptas eligendi et est et voluptates\n",
       "quia distinctio ab amet quaerat molestiae et vitae\n",
       "adipisci impedit sequi nesciunt quis consectetur</td><td>50</td><td>repellendus qui recusandae incidunt voluptates tenetur qui omnis exercitationem</td><td>5</td></tr><tr><td>sunt dolores aut doloribus\n",
       "dolore doloribus voluptates tempora et\n",
       "doloremque et quo\n",
       "cum asperiores sit consectetur dolorem</td><td>51</td><td>soluta aliquam aperiam consequatur illo quis voluptas</td><td>6</td></tr><tr><td>iusto est quibusdam fuga quas quaerat molestias\n",
       "a enim ut sit accusamus enim\n",
       "temporibus iusto accusantium provident architecto\n",
       "soluta esse reprehenderit qui laborum</td><td>52</td><td>qui enim et consequuntur quia animi quis voluptate quibusdam</td><td>6</td></tr><tr><td>minima harum praesentium eum rerum illo dolore\n",
       "quasi exercitationem rerum nam\n",
       "porro quis neque quo\n",
       "consequatur minus dolor quidem veritatis sunt non explicabo similique</td><td>53</td><td>ut quo aut ducimus alias</td><td>6</td></tr><tr><td>totam corporis dignissimos\n",
       "vitae dolorem ut occaecati accusamus\n",
       "ex velit deserunt\n",
       "et exercitationem vero incidunt corrupti mollitia</td><td>54</td><td>sit asperiores ipsam eveniet odio non quia</td><td>6</td></tr><tr><td>debitis excepturi ea perferendis harum libero optio\n",
       "eos accusamus cum fuga ut sapiente repudiandae\n",
       "et ut incidunt omnis molestiae\n",
       "nihil ut eum odit</td><td>55</td><td>sit vel voluptatem et non libero</td><td>6</td></tr><tr><td>aut est omnis dolores\n",
       "neque rerum quod ea rerum velit pariatur beatae excepturi\n",
       "et provident voluptas corrupti\n",
       "corporis harum reprehenderit dolores eligendi</td><td>56</td><td>qui et at rerum necessitatibus</td><td>6</td></tr><tr><td>at pariatur consequuntur earum quidem\n",
       "quo est laudantium soluta voluptatem\n",
       "qui ullam et est\n",
       "et cum voluptas voluptatum repellat est</td><td>57</td><td>sed ab est est</td><td>6</td></tr><tr><td>veniam voluptatum quae adipisci id\n",
       "et id quia eos ad et dolorem\n",
       "aliquam quo nisi sunt eos impedit error\n",
       "ad similique veniam</td><td>58</td><td>voluptatum itaque dolores nisi et quasi</td><td>6</td></tr><tr><td>perspiciatis et quam ea autem temporibus non voluptatibus qui\n",
       "beatae a earum officia nesciunt dolores suscipit voluptas et\n",
       "animi doloribus cum rerum quas et magni\n",
       "et hic ut ut commodi expedita sunt</td><td>59</td><td>qui commodi dolor at maiores et quis id accusantium</td><td>6</td></tr><tr><td>asperiores sunt ab assumenda cumque modi velit\n",
       "qui esse omnis\n",
       "voluptate et fuga perferendis voluptas\n",
       "illo ratione amet aut et omnis</td><td>60</td><td>consequatur placeat omnis quisquam quia reprehenderit fugit veritatis facere</td><td>6</td></tr><tr><td>ab nemo optio odio\n",
       "delectus tenetur corporis similique nobis repellendus rerum omnis facilis\n",
       "vero blanditiis debitis in nesciunt doloribus dicta dolores\n",
       "magnam minus velit</td><td>61</td><td>voluptatem doloribus consectetur est ut ducimus</td><td>7</td></tr><tr><td>enim aspernatur illo distinctio quae praesentium\n",
       "beatae alias amet delectus qui voluptate distinctio\n",
       "odit sint accusantium autem omnis\n",
       "quo molestiae omnis ea eveniet optio</td><td>62</td><td>beatae enim quia vel</td><td>7</td></tr><tr><td>enim adipisci aspernatur nemo\n",
       "numquam omnis facere dolorem dolor ex quis temporibus incidunt\n",
       "ab delectus culpa quo reprehenderit blanditiis asperiores\n",
       "accusantium ut quam in voluptatibus voluptas ipsam dicta</td><td>63</td><td>voluptas blanditiis repellendus animi ducimus error sapiente et suscipit</td><td>7</td></tr><tr><td>id velit blanditiis\n",
       "eum ea voluptatem\n",
       "molestiae sint occaecati est eos perspiciatis\n",
       "incidunt a error provident eaque aut aut qui</td><td>64</td><td>et fugit quas eum in in aperiam quod</td><td>7</td></tr><tr><td>voluptatibus ex esse\n",
       "sint explicabo est aliquid cumque adipisci fuga repellat labore\n",
       "molestiae corrupti ex saepe at asperiores et perferendis\n",
       "natus id esse incidunt pariatur</td><td>65</td><td>consequatur id enim sunt et et</td><td>7</td></tr><tr><td>officia veritatis tenetur vero qui itaque\n",
       "sint non ratione\n",
       "sed et ut asperiores iusto eos molestiae nostrum\n",
       "veritatis quibusdam et nemo iusto saepe</td><td>66</td><td>repudiandae ea animi iusto</td><td>7</td></tr><tr><td>reprehenderit id nostrum\n",
       "voluptas doloremque pariatur sint et accusantium quia quod aspernatur\n",
       "et fugiat amet\n",
       "non sapiente et consequatur necessitatibus molestiae</td><td>67</td><td>aliquid eos sed fuga est maxime repellendus</td><td>7</td></tr><tr><td>magnam molestiae perferendis quisquam\n",
       "qui cum reiciendis\n",
       "quaerat animi amet hic inventore\n",
       "ea quia deleniti quidem saepe porro velit</td><td>68</td><td>odio quis facere architecto reiciendis optio</td><td>7</td></tr><tr><td>officiis error culpa consequatur modi asperiores et\n",
       "dolorum assumenda voluptas et vel qui aut vel rerum\n",
       "voluptatum quisquam perspiciatis quia rerum consequatur totam quas\n",
       "sequi commodi repudiandae asperiores et saepe a</td><td>69</td><td>fugiat quod pariatur odit minima</td><td>7</td></tr><tr><td>sunt repellendus quae\n",
       "est asperiores aut deleniti esse accusamus repellendus quia aut\n",
       "quia dolorem unde\n",
       "eum tempora esse dolore</td><td>70</td><td>voluptatem laborum magni</td><td>7</td></tr><tr><td>occaecati a doloribus\n",
       "iste saepe consectetur placeat eum voluptate dolorem et\n",
       "qui quo quia voluptas\n",
       "rerum ut id enim velit est perferendis</td><td>71</td><td>et iusto veniam et illum aut fuga</td><td>8</td></tr><tr><td>quam occaecati qui deleniti consectetur\n",
       "consequatur aut facere quas exercitationem aliquam hic voluptas\n",
       "neque id sunt ut aut accusamus\n",
       "sunt consectetur expedita inventore velit</td><td>72</td><td>sint hic doloribus consequatur eos non id</td><td>8</td></tr><tr><td>voluptatem cumque tenetur consequatur expedita ipsum nemo quia explicabo\n",
       "aut eum minima consequatur\n",
       "tempore cumque quae est et\n",
       "et in consequuntur voluptatem voluptates aut</td><td>73</td><td>consequuntur deleniti eos quia temporibus ab aliquid at</td><td>8</td></tr><tr><td>odit qui et et necessitatibus sint veniam\n",
       "mollitia amet doloremque molestiae commodi similique magnam et quam\n",
       "blanditiis est itaque\n",
       "quo et tenetur ratione occaecati molestiae tempora</td><td>74</td><td>enim unde ratione doloribus quas enim ut sit sapiente</td><td>8</td></tr><tr><td>commodi non non omnis et voluptas sit\n",
       "autem aut nobis magnam et sapiente voluptatem\n",
       "et laborum repellat qui delectus facilis temporibus\n",
       "rerum amet et nemo voluptate expedita adipisci error dolorem</td><td>75</td><td>dignissimos eum dolor ut enim et delectus in</td><td>8</td></tr><tr><td>ut animi facere\n",
       "totam iusto tempore\n",
       "molestiae eum aut et dolorem aperiam\n",
       "quaerat recusandae totam odio</td><td>76</td><td>doloremque officiis ad et non perferendis</td><td>8</td></tr><tr><td>modi ut in nulla repudiandae dolorum nostrum eos\n",
       "aut consequatur omnis\n",
       "ut incidunt est omnis iste et quam\n",
       "voluptates sapiente aliquam asperiores nobis amet corrupti repudiandae provident</td><td>77</td><td>necessitatibus quasi exercitationem odio</td><td>8</td></tr><tr><td>nobis facilis odit tempore cupiditate quia\n",
       "assumenda doloribus rerum qui ea\n",
       "illum et qui totam\n",
       "aut veniam repellendus</td><td>78</td><td>quam voluptatibus rerum veritatis</td><td>8</td></tr><tr><td>libero accusantium et et facere incidunt sit dolorem\n",
       "non excepturi qui quia sed laudantium\n",
       "quisquam molestiae ducimus est\n",
       "officiis esse molestiae iste et quos</td><td>79</td><td>pariatur consequatur quia magnam autem omnis non amet</td><td>8</td></tr><tr><td>ex quod dolorem ea eum iure qui provident amet\n",
       "quia qui facere excepturi et repudiandae\n",
       "asperiores molestias provident\n",
       "minus incidunt vero fugit rerum sint sunt excepturi provident</td><td>80</td><td>labore in ex et explicabo corporis aut quas</td><td>8</td></tr><tr><td>facere qui nesciunt est voluptatum voluptatem nisi\n",
       "sequi eligendi necessitatibus ea at rerum itaque\n",
       "harum non ratione velit laboriosam quis consequuntur\n",
       "ex officiis minima doloremque voluptas ut aut</td><td>81</td><td>tempora rem veritatis voluptas quo dolores vero</td><td>9</td></tr><tr><td>ut libero sit aut totam inventore sunt\n",
       "porro sint qui sunt molestiae\n",
       "consequatur cupiditate qui iste ducimus adipisci\n",
       "dolor enim assumenda soluta laboriosam amet iste delectus hic</td><td>82</td><td>laudantium voluptate suscipit sunt enim enim</td><td>9</td></tr><tr><td>est molestiae facilis quis tempora numquam nihil qui\n",
       "voluptate sapiente consequatur est qui\n",
       "necessitatibus autem aut ipsa aperiam modi dolore numquam\n",
       "reprehenderit eius rem quibusdam</td><td>83</td><td>odit et voluptates doloribus alias odio et</td><td>9</td></tr><tr><td>sint molestiae magni a et quos\n",
       "eaque et quasi\n",
       "ut rerum debitis similique veniam\n",
       "recusandae dignissimos dolor incidunt consequatur odio</td><td>84</td><td>optio ipsam molestias necessitatibus occaecati facilis veritatis dolores aut</td><td>9</td></tr><tr><td>similique sed nisi voluptas iusto omnis\n",
       "mollitia et quo\n",
       "assumenda suscipit officia magnam sint sed tempora\n",
       "enim provident pariatur praesentium atque animi amet ratione</td><td>85</td><td>dolore veritatis porro provident adipisci blanditiis et sunt</td><td>9</td></tr><tr><td>quasi excepturi consequatur iste autem temporibus sed molestiae beatae\n",
       "et quaerat et esse ut\n",
       "voluptatem occaecati et vel explicabo autem\n",
       "asperiores pariatur deserunt optio</td><td>86</td><td>placeat quia et porro iste</td><td>9</td></tr><tr><td>eos et molestiae\n",
       "nesciunt ut a\n",
       "dolores perspiciatis repellendus repellat aliquid\n",
       "magnam sint rem ipsum est</td><td>87</td><td>nostrum quis quasi placeat</td><td>9</td></tr><tr><td>consequatur omnis est praesentium\n",
       "ducimus non iste\n",
       "neque hic deserunt\n",
       "voluptatibus veniam cum et rerum sed</td><td>88</td><td>sapiente omnis fugit eos</td><td>9</td></tr><tr><td>repellat aut aperiam totam temporibus autem et\n",
       "architecto magnam ut\n",
       "consequatur qui cupiditate rerum quia soluta dignissimos nihil iure\n",
       "tempore quas est</td><td>89</td><td>sint soluta et vel magnam aut ut sed qui</td><td>9</td></tr><tr><td>minus omnis soluta quia\n",
       "qui sed adipisci voluptates illum ipsam voluptatem\n",
       "eligendi officia ut in\n",
       "eos soluta similique molestias praesentium blanditiis</td><td>90</td><td>ad iusto omnis odit dolor voluptatibus</td><td>9</td></tr><tr><td>libero voluptate eveniet aperiam sed\n",
       "sunt placeat suscipit molestias\n",
       "similique fugit nam natus\n",
       "expedita consequatur consequatur dolores quia eos et placeat</td><td>91</td><td>aut amet sed</td><td>10</td></tr><tr><td>aut et excepturi dicta laudantium sint rerum nihil\n",
       "laudantium et at\n",
       "a neque minima officia et similique libero et\n",
       "commodi voluptate qui</td><td>92</td><td>ratione ex tenetur perferendis</td><td>10</td></tr><tr><td>dolorem quibusdam ducimus consequuntur dicta aut quo laboriosam\n",
       "voluptatem quis enim recusandae ut sed sunt\n",
       "nostrum est odit totam\n",
       "sit error sed sunt eveniet provident qui nulla</td><td>93</td><td>beatae soluta recusandae</td><td>10</td></tr><tr><td>aspernatur expedita soluta quo ab ut similique\n",
       "expedita dolores amet\n",
       "sed temporibus distinctio magnam saepe deleniti\n",
       "omnis facilis nam ipsum natus sint similique omnis</td><td>94</td><td>qui qui voluptates illo iste minima</td><td>10</td></tr><tr><td>earum voluptatem facere provident blanditiis velit laboriosam\n",
       "pariatur accusamus odio saepe\n",
       "cumque dolor qui a dicta ab doloribus consequatur omnis\n",
       "corporis cupiditate eaque assumenda ad nesciunt</td><td>95</td><td>id minus libero illum nam ad officiis</td><td>10</td></tr><tr><td>in non odio excepturi sint eum\n",
       "labore voluptates vitae quia qui et\n",
       "inventore itaque rerum\n",
       "veniam non exercitationem delectus aut</td><td>96</td><td>quaerat velit veniam amet cupiditate aut numquam ut sequi</td><td>10</td></tr><tr><td>eum non blanditiis soluta porro quibusdam voluptas\n",
       "vel voluptatem qui placeat dolores qui velit aut\n",
       "vel inventore aut cumque culpa explicabo aliquid at\n",
       "perspiciatis est et voluptatem dignissimos dolor itaque sit nam</td><td>97</td><td>quas fugiat ut perspiciatis vero provident</td><td>10</td></tr><tr><td>doloremque ex facilis sit sint culpa\n",
       "soluta assumenda eligendi non ut eius\n",
       "sequi ducimus vel quasi\n",
       "veritatis est dolores</td><td>98</td><td>laboriosam dolor voluptates</td><td>10</td></tr><tr><td>quo deleniti praesentium dicta non quod\n",
       "aut est molestias\n",
       "molestias et officia quis nihil\n",
       "itaque dolorem quia</td><td>99</td><td>temporibus sit alias delectus eligendi possimus magni</td><td>10</td></tr><tr><td>cupiditate quo est a modi nesciunt soluta\n",
       "ipsa voluptas error itaque dicta in\n",
       "autem qui minus magnam et distinctio eum\n",
       "accusamus ratione error aut</td><td>100</td><td>at nam consequatur ea labore ea harum</td><td>10</td></tr></tbody></table></div>"
      ]
     },
     "metadata": {
      "application/vnd.databricks.v1+output": {
       "addedWidgets": {},
       "aggData": [],
       "aggError": "",
       "aggOverflow": false,
       "aggSchema": [],
       "aggSeriesLimitReached": false,
       "aggType": "",
       "arguments": {},
       "columnCustomDisplayInfos": {},
       "data": [
        [
         "quia et suscipit\nsuscipit recusandae consequuntur expedita et cum\nreprehenderit molestiae ut ut quas totam\nnostrum rerum est autem sunt rem eveniet architecto",
         1,
         "sunt aut facere repellat provident occaecati excepturi optio reprehenderit",
         1
        ],
        [
         "est rerum tempore vitae\nsequi sint nihil reprehenderit dolor beatae ea dolores neque\nfugiat blanditiis voluptate porro vel nihil molestiae ut reiciendis\nqui aperiam non debitis possimus qui neque nisi nulla",
         2,
         "qui est esse",
         1
        ],
        [
         "et iusto sed quo iure\nvoluptatem occaecati omnis eligendi aut ad\nvoluptatem doloribus vel accusantium quis pariatur\nmolestiae porro eius odio et labore et velit aut",
         3,
         "ea molestias quasi exercitationem repellat qui ipsa sit aut",
         1
        ],
        [
         "ullam et saepe reiciendis voluptatem adipisci\nsit amet autem assumenda provident rerum culpa\nquis hic commodi nesciunt rem tenetur doloremque ipsam iure\nquis sunt voluptatem rerum illo velit",
         4,
         "eum et est occaecati",
         1
        ],
        [
         "repudiandae veniam quaerat sunt sed\nalias aut fugiat sit autem sed est\nvoluptatem omnis possimus esse voluptatibus quis\nest aut tenetur dolor neque",
         5,
         "nesciunt quas odio",
         1
        ],
        [
         "ut aspernatur corporis harum nihil quis provident sequi\nmollitia nobis aliquid molestiae\nperspiciatis et ea nemo ab reprehenderit accusantium quas\nvoluptate dolores velit et doloremque molestiae",
         6,
         "dolorem eum magni eos aperiam quia",
         1
        ],
        [
         "dolore placeat quibusdam ea quo vitae\nmagni quis enim qui quis quo nemo aut saepe\nquidem repellat excepturi ut quia\nsunt ut sequi eos ea sed quas",
         7,
         "magnam facilis autem",
         1
        ],
        [
         "dignissimos aperiam dolorem qui eum\nfacilis quibusdam animi sint suscipit qui sint possimus cum\nquaerat magni maiores excepturi\nipsam ut commodi dolor voluptatum modi aut vitae",
         8,
         "dolorem dolore est ipsam",
         1
        ],
        [
         "consectetur animi nesciunt iure dolore\nenim quia ad\nveniam autem ut quam aut nobis\net est aut quod aut provident voluptas autem voluptas",
         9,
         "nesciunt iure omnis dolorem tempora et accusantium",
         1
        ],
        [
         "quo et expedita modi cum officia vel magni\ndoloribus qui repudiandae\nvero nisi sit\nquos veniam quod sed accusamus veritatis error",
         10,
         "optio molestias id quia eum",
         1
        ],
        [
         "delectus reiciendis molestiae occaecati non minima eveniet qui voluptatibus\naccusamus in eum beatae sit\nvel qui neque voluptates ut commodi qui incidunt\nut animi commodi",
         11,
         "et ea vero quia laudantium autem",
         2
        ],
        [
         "itaque id aut magnam\npraesentium quia et ea odit et ea voluptas et\nsapiente quia nihil amet occaecati quia id voluptatem\nincidunt ea est distinctio odio",
         12,
         "in quibusdam tempore odit est dolorem",
         2
        ],
        [
         "aut dicta possimus sint mollitia voluptas commodi quo doloremque\niste corrupti reiciendis voluptatem eius rerum\nsit cumque quod eligendi laborum minima\nperferendis recusandae assumenda consectetur porro architecto ipsum ipsam",
         13,
         "dolorum ut in voluptas mollitia et saepe quo animi",
         2
        ],
        [
         "fuga et accusamus dolorum perferendis illo voluptas\nnon doloremque neque facere\nad qui dolorum molestiae beatae\nsed aut voluptas totam sit illum",
         14,
         "voluptatem eligendi optio",
         2
        ],
        [
         "reprehenderit quos placeat\nvelit minima officia dolores impedit repudiandae molestiae nam\nvoluptas recusandae quis delectus\nofficiis harum fugiat vitae",
         15,
         "eveniet quod temporibus",
         2
        ],
        [
         "suscipit nam nisi quo aperiam aut\nasperiores eos fugit maiores voluptatibus quia\nvoluptatem quis ullam qui in alias quia est\nconsequatur magni mollitia accusamus ea nisi voluptate dicta",
         16,
         "sint suscipit perspiciatis velit dolorum rerum ipsa laboriosam odio",
         2
        ],
        [
         "eos voluptas et aut odit natus earum\naspernatur fuga molestiae ullam\ndeserunt ratione qui eos\nqui nihil ratione nemo velit ut aut id quo",
         17,
         "fugit voluptas sed molestias voluptatem provident",
         2
        ],
        [
         "eveniet quo quis\nlaborum totam consequatur non dolor\nut et est repudiandae\nest voluptatem vel debitis et magnam",
         18,
         "voluptate et itaque vero tempora molestiae",
         2
        ],
        [
         "illum quis cupiditate provident sit magnam\nea sed aut omnis\nveniam maiores ullam consequatur atque\nadipisci quo iste expedita sit quos voluptas",
         19,
         "adipisci placeat illum aut reiciendis qui",
         2
        ],
        [
         "qui consequuntur ducimus possimus quisquam amet similique\nsuscipit porro ipsam amet\neos veritatis officiis exercitationem vel fugit aut necessitatibus totam\nomnis rerum consequatur expedita quidem cumque explicabo",
         20,
         "doloribus ad provident suscipit at",
         2
        ],
        [
         "repellat aliquid praesentium dolorem quo\nsed totam minus non itaque\nnihil labore molestiae sunt dolor eveniet hic recusandae veniam\ntempora et tenetur expedita sunt",
         21,
         "asperiores ea ipsam voluptatibus modi minima quia sint",
         3
        ],
        [
         "eos qui et ipsum ipsam suscipit aut\nsed omnis non odio\nexpedita earum mollitia molestiae aut atque rem suscipit\nnam impedit esse",
         22,
         "dolor sint quo a velit explicabo quia nam",
         3
        ],
        [
         "veritatis unde neque eligendi\nquae quod architecto quo neque vitae\nest illo sit tempora doloremque fugit quod\net et vel beatae sequi ullam sed tenetur perspiciatis",
         23,
         "maxime id vitae nihil numquam",
         3
        ],
        [
         "enim et ex nulla\nomnis voluptas quia qui\nvoluptatem consequatur numquam aliquam sunt\ntotam recusandae id dignissimos aut sed asperiores deserunt",
         24,
         "autem hic labore sunt dolores incidunt",
         3
        ],
        [
         "ullam consequatur ut\nomnis quis sit vel consequuntur\nipsa eligendi ipsum molestiae et omnis error nostrum\nmolestiae illo tempore quia et distinctio",
         25,
         "rem alias distinctio quo quis",
         3
        ],
        [
         "similique esse doloribus nihil accusamus\nomnis dolorem fuga consequuntur reprehenderit fugit recusandae temporibus\nperspiciatis cum ut laudantium\nomnis aut molestiae vel vero",
         26,
         "est et quae odit qui non",
         3
        ],
        [
         "eum sed dolores ipsam sint possimus debitis occaecati\ndebitis qui qui et\nut placeat enim earum aut odit facilis\nconsequatur suscipit necessitatibus rerum sed inventore temporibus consequatur",
         27,
         "quasi id et eos tenetur aut quo autem",
         3
        ],
        [
         "non et quaerat ex quae ad maiores\nmaiores recusandae totam aut blanditiis mollitia quas illo\nut voluptatibus voluptatem\nsimilique nostrum eum",
         28,
         "delectus ullam et corporis nulla voluptas sequi",
         3
        ],
        [
         "odit magnam ut saepe sed non qui\ntempora atque nihil\naccusamus illum doloribus illo dolor\neligendi repudiandae odit magni similique sed cum maiores",
         29,
         "iusto eius quod necessitatibus culpa ea",
         3
        ],
        [
         "alias dolor cumque\nimpedit blanditiis non eveniet odio maxime\nblanditiis amet eius quis tempora quia autem rem\na provident perspiciatis quia",
         30,
         "a quo magni similique perferendis",
         3
        ],
        [
         "debitis eius sed quibusdam non quis consectetur vitae\nimpedit ut qui consequatur sed aut in\nquidem sit nostrum et maiores adipisci atque\nquaerat voluptatem adipisci repudiandae",
         31,
         "ullam ut quidem id aut vel consequuntur",
         4
        ],
        [
         "deserunt eos nobis asperiores et hic\nest debitis repellat molestiae optio\nnihil ratione ut eos beatae quibusdam distinctio maiores\nearum voluptates et aut adipisci ea maiores voluptas maxime",
         32,
         "doloremque illum aliquid sunt",
         4
        ],
        [
         "rerum ut et numquam laborum odit est sit\nid qui sint in\nquasi tenetur tempore aperiam et quaerat qui in\nrerum officiis sequi cumque quod",
         33,
         "qui explicabo molestiae dolorem",
         4
        ],
        [
         "ea velit perferendis earum ut voluptatem voluptate itaque iusto\ntotam pariatur in\nnemo voluptatem voluptatem autem magni tempora minima in\nest distinctio qui assumenda accusamus dignissimos officia nesciunt nobis",
         34,
         "magnam ut rerum iure",
         4
        ],
        [
         "nisi error delectus possimus ut eligendi vitae\nplaceat eos harum cupiditate facilis reprehenderit voluptatem beatae\nmodi ducimus quo illum voluptas eligendi\net nobis quia fugit",
         35,
         "id nihil consequatur molestias animi provident",
         4
        ],
        [
         "ad mollitia et omnis minus architecto odit\nvoluptas doloremque maxime aut non ipsa qui alias veniam\nblanditiis culpa aut quia nihil cumque facere et occaecati\nqui aspernatur quia eaque ut aperiam inventore",
         36,
         "fuga nam accusamus voluptas reiciendis itaque",
         4
        ],
        [
         "debitis et eaque non officia sed nesciunt pariatur vel\nvoluptatem iste vero et ea\nnumquam aut expedita ipsum nulla in\nvoluptates omnis consequatur aut enim officiis in quam qui",
         37,
         "provident vel ut sit ratione est",
         4
        ],
        [
         "animi esse sit aut sit nesciunt assumenda eum voluptas\nquia voluptatibus provident quia necessitatibus ea\nrerum repudiandae quia voluptatem delectus fugit aut id quia\nratione optio eos iusto veniam iure",
         38,
         "explicabo et eos deleniti nostrum ab id repellendus",
         4
        ],
        [
         "corporis rerum ducimus vel eum accusantium\nmaxime aspernatur a porro possimus iste omnis\nest in deleniti asperiores fuga aut\nvoluptas sapiente vel dolore minus voluptatem incidunt ex",
         39,
         "eos dolorem iste accusantium est eaque quam",
         4
        ],
        [
         "ut voluptatum aliquid illo tenetur nemo sequi quo facilis\nipsum rem optio mollitia quas\nvoluptatem eum voluptas qui\nunde omnis voluptatem iure quasi maxime voluptas nam",
         40,
         "enim quo cumque",
         4
        ],
        [
         "molestias id nostrum\nexcepturi molestiae dolore omnis repellendus quaerat saepe\nconsectetur iste quaerat tenetur asperiores accusamus ex ut\nnam quidem est ducimus sunt debitis saepe",
         41,
         "non est facere",
         5
        ],
        [
         "odio fugit voluptatum ducimus earum autem est incidunt voluptatem\nodit reiciendis aliquam sunt sequi nulla dolorem\nnon facere repellendus voluptates quia\nratione harum vitae ut",
         42,
         "commodi ullam sint et excepturi error explicabo praesentium voluptas",
         5
        ],
        [
         "similique fugit est\nillum et dolorum harum et voluptate eaque quidem\nexercitationem quos nam commodi possimus cum odio nihil nulla\ndolorum exercitationem magnam ex et a et distinctio debitis",
         43,
         "eligendi iste nostrum consequuntur adipisci praesentium sit beatae perferendis",
         5
        ],
        [
         "temporibus est consectetur dolore\net libero debitis vel velit laboriosam quia\nipsum quibusdam qui itaque fuga rem aut\nea et iure quam sed maxime ut distinctio quae",
         44,
         "optio dolor molestias sit",
         5
        ],
        [
         "est natus reiciendis nihil possimus aut provident\nex et dolor\nrepellat pariatur est\nnobis rerum repellendus dolorem autem",
         45,
         "ut numquam possimus omnis eius suscipit laudantium iure",
         5
        ],
        [
         "voluptatem quisquam iste\nvoluptatibus natus officiis facilis dolorem\nquis quas ipsam\nvel et voluptatum in aliquid",
         46,
         "aut quo modi neque nostrum ducimus",
         5
        ],
        [
         "voluptatem assumenda ut qui ut cupiditate aut impedit veniam\noccaecati nemo illum voluptatem laudantium\nmolestiae beatae rerum ea iure soluta nostrum\neligendi et voluptate",
         47,
         "quibusdam cumque rem aut deserunt",
         5
        ],
        [
         "voluptates quo voluptatem facilis iure occaecati\nvel assumenda rerum officia et\nillum perspiciatis ab deleniti\nlaudantium repellat ad ut et autem reprehenderit",
         48,
         "ut voluptatem illum ea doloribus itaque eos",
         5
        ],
        [
         "inventore ab sint\nnatus fugit id nulla sequi architecto nihil quaerat\neos tenetur in in eum veritatis non\nquibusdam officiis aspernatur cumque aut commodi aut",
         49,
         "laborum non sunt aut ut assumenda perspiciatis voluptas",
         5
        ],
        [
         "error suscipit maxime adipisci consequuntur recusandae\nvoluptas eligendi et est et voluptates\nquia distinctio ab amet quaerat molestiae et vitae\nadipisci impedit sequi nesciunt quis consectetur",
         50,
         "repellendus qui recusandae incidunt voluptates tenetur qui omnis exercitationem",
         5
        ],
        [
         "sunt dolores aut doloribus\ndolore doloribus voluptates tempora et\ndoloremque et quo\ncum asperiores sit consectetur dolorem",
         51,
         "soluta aliquam aperiam consequatur illo quis voluptas",
         6
        ],
        [
         "iusto est quibusdam fuga quas quaerat molestias\na enim ut sit accusamus enim\ntemporibus iusto accusantium provident architecto\nsoluta esse reprehenderit qui laborum",
         52,
         "qui enim et consequuntur quia animi quis voluptate quibusdam",
         6
        ],
        [
         "minima harum praesentium eum rerum illo dolore\nquasi exercitationem rerum nam\nporro quis neque quo\nconsequatur minus dolor quidem veritatis sunt non explicabo similique",
         53,
         "ut quo aut ducimus alias",
         6
        ],
        [
         "totam corporis dignissimos\nvitae dolorem ut occaecati accusamus\nex velit deserunt\net exercitationem vero incidunt corrupti mollitia",
         54,
         "sit asperiores ipsam eveniet odio non quia",
         6
        ],
        [
         "debitis excepturi ea perferendis harum libero optio\neos accusamus cum fuga ut sapiente repudiandae\net ut incidunt omnis molestiae\nnihil ut eum odit",
         55,
         "sit vel voluptatem et non libero",
         6
        ],
        [
         "aut est omnis dolores\nneque rerum quod ea rerum velit pariatur beatae excepturi\net provident voluptas corrupti\ncorporis harum reprehenderit dolores eligendi",
         56,
         "qui et at rerum necessitatibus",
         6
        ],
        [
         "at pariatur consequuntur earum quidem\nquo est laudantium soluta voluptatem\nqui ullam et est\net cum voluptas voluptatum repellat est",
         57,
         "sed ab est est",
         6
        ],
        [
         "veniam voluptatum quae adipisci id\net id quia eos ad et dolorem\naliquam quo nisi sunt eos impedit error\nad similique veniam",
         58,
         "voluptatum itaque dolores nisi et quasi",
         6
        ],
        [
         "perspiciatis et quam ea autem temporibus non voluptatibus qui\nbeatae a earum officia nesciunt dolores suscipit voluptas et\nanimi doloribus cum rerum quas et magni\net hic ut ut commodi expedita sunt",
         59,
         "qui commodi dolor at maiores et quis id accusantium",
         6
        ],
        [
         "asperiores sunt ab assumenda cumque modi velit\nqui esse omnis\nvoluptate et fuga perferendis voluptas\nillo ratione amet aut et omnis",
         60,
         "consequatur placeat omnis quisquam quia reprehenderit fugit veritatis facere",
         6
        ],
        [
         "ab nemo optio odio\ndelectus tenetur corporis similique nobis repellendus rerum omnis facilis\nvero blanditiis debitis in nesciunt doloribus dicta dolores\nmagnam minus velit",
         61,
         "voluptatem doloribus consectetur est ut ducimus",
         7
        ],
        [
         "enim aspernatur illo distinctio quae praesentium\nbeatae alias amet delectus qui voluptate distinctio\nodit sint accusantium autem omnis\nquo molestiae omnis ea eveniet optio",
         62,
         "beatae enim quia vel",
         7
        ],
        [
         "enim adipisci aspernatur nemo\nnumquam omnis facere dolorem dolor ex quis temporibus incidunt\nab delectus culpa quo reprehenderit blanditiis asperiores\naccusantium ut quam in voluptatibus voluptas ipsam dicta",
         63,
         "voluptas blanditiis repellendus animi ducimus error sapiente et suscipit",
         7
        ],
        [
         "id velit blanditiis\neum ea voluptatem\nmolestiae sint occaecati est eos perspiciatis\nincidunt a error provident eaque aut aut qui",
         64,
         "et fugit quas eum in in aperiam quod",
         7
        ],
        [
         "voluptatibus ex esse\nsint explicabo est aliquid cumque adipisci fuga repellat labore\nmolestiae corrupti ex saepe at asperiores et perferendis\nnatus id esse incidunt pariatur",
         65,
         "consequatur id enim sunt et et",
         7
        ],
        [
         "officia veritatis tenetur vero qui itaque\nsint non ratione\nsed et ut asperiores iusto eos molestiae nostrum\nveritatis quibusdam et nemo iusto saepe",
         66,
         "repudiandae ea animi iusto",
         7
        ],
        [
         "reprehenderit id nostrum\nvoluptas doloremque pariatur sint et accusantium quia quod aspernatur\net fugiat amet\nnon sapiente et consequatur necessitatibus molestiae",
         67,
         "aliquid eos sed fuga est maxime repellendus",
         7
        ],
        [
         "magnam molestiae perferendis quisquam\nqui cum reiciendis\nquaerat animi amet hic inventore\nea quia deleniti quidem saepe porro velit",
         68,
         "odio quis facere architecto reiciendis optio",
         7
        ],
        [
         "officiis error culpa consequatur modi asperiores et\ndolorum assumenda voluptas et vel qui aut vel rerum\nvoluptatum quisquam perspiciatis quia rerum consequatur totam quas\nsequi commodi repudiandae asperiores et saepe a",
         69,
         "fugiat quod pariatur odit minima",
         7
        ],
        [
         "sunt repellendus quae\nest asperiores aut deleniti esse accusamus repellendus quia aut\nquia dolorem unde\neum tempora esse dolore",
         70,
         "voluptatem laborum magni",
         7
        ],
        [
         "occaecati a doloribus\niste saepe consectetur placeat eum voluptate dolorem et\nqui quo quia voluptas\nrerum ut id enim velit est perferendis",
         71,
         "et iusto veniam et illum aut fuga",
         8
        ],
        [
         "quam occaecati qui deleniti consectetur\nconsequatur aut facere quas exercitationem aliquam hic voluptas\nneque id sunt ut aut accusamus\nsunt consectetur expedita inventore velit",
         72,
         "sint hic doloribus consequatur eos non id",
         8
        ],
        [
         "voluptatem cumque tenetur consequatur expedita ipsum nemo quia explicabo\naut eum minima consequatur\ntempore cumque quae est et\net in consequuntur voluptatem voluptates aut",
         73,
         "consequuntur deleniti eos quia temporibus ab aliquid at",
         8
        ],
        [
         "odit qui et et necessitatibus sint veniam\nmollitia amet doloremque molestiae commodi similique magnam et quam\nblanditiis est itaque\nquo et tenetur ratione occaecati molestiae tempora",
         74,
         "enim unde ratione doloribus quas enim ut sit sapiente",
         8
        ],
        [
         "commodi non non omnis et voluptas sit\nautem aut nobis magnam et sapiente voluptatem\net laborum repellat qui delectus facilis temporibus\nrerum amet et nemo voluptate expedita adipisci error dolorem",
         75,
         "dignissimos eum dolor ut enim et delectus in",
         8
        ],
        [
         "ut animi facere\ntotam iusto tempore\nmolestiae eum aut et dolorem aperiam\nquaerat recusandae totam odio",
         76,
         "doloremque officiis ad et non perferendis",
         8
        ],
        [
         "modi ut in nulla repudiandae dolorum nostrum eos\naut consequatur omnis\nut incidunt est omnis iste et quam\nvoluptates sapiente aliquam asperiores nobis amet corrupti repudiandae provident",
         77,
         "necessitatibus quasi exercitationem odio",
         8
        ],
        [
         "nobis facilis odit tempore cupiditate quia\nassumenda doloribus rerum qui ea\nillum et qui totam\naut veniam repellendus",
         78,
         "quam voluptatibus rerum veritatis",
         8
        ],
        [
         "libero accusantium et et facere incidunt sit dolorem\nnon excepturi qui quia sed laudantium\nquisquam molestiae ducimus est\nofficiis esse molestiae iste et quos",
         79,
         "pariatur consequatur quia magnam autem omnis non amet",
         8
        ],
        [
         "ex quod dolorem ea eum iure qui provident amet\nquia qui facere excepturi et repudiandae\nasperiores molestias provident\nminus incidunt vero fugit rerum sint sunt excepturi provident",
         80,
         "labore in ex et explicabo corporis aut quas",
         8
        ],
        [
         "facere qui nesciunt est voluptatum voluptatem nisi\nsequi eligendi necessitatibus ea at rerum itaque\nharum non ratione velit laboriosam quis consequuntur\nex officiis minima doloremque voluptas ut aut",
         81,
         "tempora rem veritatis voluptas quo dolores vero",
         9
        ],
        [
         "ut libero sit aut totam inventore sunt\nporro sint qui sunt molestiae\nconsequatur cupiditate qui iste ducimus adipisci\ndolor enim assumenda soluta laboriosam amet iste delectus hic",
         82,
         "laudantium voluptate suscipit sunt enim enim",
         9
        ],
        [
         "est molestiae facilis quis tempora numquam nihil qui\nvoluptate sapiente consequatur est qui\nnecessitatibus autem aut ipsa aperiam modi dolore numquam\nreprehenderit eius rem quibusdam",
         83,
         "odit et voluptates doloribus alias odio et",
         9
        ],
        [
         "sint molestiae magni a et quos\neaque et quasi\nut rerum debitis similique veniam\nrecusandae dignissimos dolor incidunt consequatur odio",
         84,
         "optio ipsam molestias necessitatibus occaecati facilis veritatis dolores aut",
         9
        ],
        [
         "similique sed nisi voluptas iusto omnis\nmollitia et quo\nassumenda suscipit officia magnam sint sed tempora\nenim provident pariatur praesentium atque animi amet ratione",
         85,
         "dolore veritatis porro provident adipisci blanditiis et sunt",
         9
        ],
        [
         "quasi excepturi consequatur iste autem temporibus sed molestiae beatae\net quaerat et esse ut\nvoluptatem occaecati et vel explicabo autem\nasperiores pariatur deserunt optio",
         86,
         "placeat quia et porro iste",
         9
        ],
        [
         "eos et molestiae\nnesciunt ut a\ndolores perspiciatis repellendus repellat aliquid\nmagnam sint rem ipsum est",
         87,
         "nostrum quis quasi placeat",
         9
        ],
        [
         "consequatur omnis est praesentium\nducimus non iste\nneque hic deserunt\nvoluptatibus veniam cum et rerum sed",
         88,
         "sapiente omnis fugit eos",
         9
        ],
        [
         "repellat aut aperiam totam temporibus autem et\narchitecto magnam ut\nconsequatur qui cupiditate rerum quia soluta dignissimos nihil iure\ntempore quas est",
         89,
         "sint soluta et vel magnam aut ut sed qui",
         9
        ],
        [
         "minus omnis soluta quia\nqui sed adipisci voluptates illum ipsam voluptatem\neligendi officia ut in\neos soluta similique molestias praesentium blanditiis",
         90,
         "ad iusto omnis odit dolor voluptatibus",
         9
        ],
        [
         "libero voluptate eveniet aperiam sed\nsunt placeat suscipit molestias\nsimilique fugit nam natus\nexpedita consequatur consequatur dolores quia eos et placeat",
         91,
         "aut amet sed",
         10
        ],
        [
         "aut et excepturi dicta laudantium sint rerum nihil\nlaudantium et at\na neque minima officia et similique libero et\ncommodi voluptate qui",
         92,
         "ratione ex tenetur perferendis",
         10
        ],
        [
         "dolorem quibusdam ducimus consequuntur dicta aut quo laboriosam\nvoluptatem quis enim recusandae ut sed sunt\nnostrum est odit totam\nsit error sed sunt eveniet provident qui nulla",
         93,
         "beatae soluta recusandae",
         10
        ],
        [
         "aspernatur expedita soluta quo ab ut similique\nexpedita dolores amet\nsed temporibus distinctio magnam saepe deleniti\nomnis facilis nam ipsum natus sint similique omnis",
         94,
         "qui qui voluptates illo iste minima",
         10
        ],
        [
         "earum voluptatem facere provident blanditiis velit laboriosam\npariatur accusamus odio saepe\ncumque dolor qui a dicta ab doloribus consequatur omnis\ncorporis cupiditate eaque assumenda ad nesciunt",
         95,
         "id minus libero illum nam ad officiis",
         10
        ],
        [
         "in non odio excepturi sint eum\nlabore voluptates vitae quia qui et\ninventore itaque rerum\nveniam non exercitationem delectus aut",
         96,
         "quaerat velit veniam amet cupiditate aut numquam ut sequi",
         10
        ],
        [
         "eum non blanditiis soluta porro quibusdam voluptas\nvel voluptatem qui placeat dolores qui velit aut\nvel inventore aut cumque culpa explicabo aliquid at\nperspiciatis est et voluptatem dignissimos dolor itaque sit nam",
         97,
         "quas fugiat ut perspiciatis vero provident",
         10
        ],
        [
         "doloremque ex facilis sit sint culpa\nsoluta assumenda eligendi non ut eius\nsequi ducimus vel quasi\nveritatis est dolores",
         98,
         "laboriosam dolor voluptates",
         10
        ],
        [
         "quo deleniti praesentium dicta non quod\naut est molestias\nmolestias et officia quis nihil\nitaque dolorem quia",
         99,
         "temporibus sit alias delectus eligendi possimus magni",
         10
        ],
        [
         "cupiditate quo est a modi nesciunt soluta\nipsa voluptas error itaque dicta in\nautem qui minus magnam et distinctio eum\naccusamus ratione error aut",
         100,
         "at nam consequatur ea labore ea harum",
         10
        ]
       ],
       "datasetInfos": [],
       "dbfsResultPath": null,
       "isJsonSchema": true,
       "metadata": {},
       "overflow": false,
       "plotOptions": {
        "customPlotOptions": {},
        "displayType": "table",
        "pivotAggregation": null,
        "pivotColumns": null,
        "xColumns": null,
        "yColumns": null
       },
       "removedWidgets": [],
       "schema": [
        {
         "metadata": "{}",
         "name": "body",
         "type": "\"string\""
        },
        {
         "metadata": "{}",
         "name": "id",
         "type": "\"long\""
        },
        {
         "metadata": "{}",
         "name": "title",
         "type": "\"string\""
        },
        {
         "metadata": "{}",
         "name": "userId",
         "type": "\"long\""
        }
       ],
       "type": "table"
      }
     },
     "output_type": "display_data"
    }
   ],
   "source": [
    "display(df)"
   ]
  },
  {
   "cell_type": "code",
   "execution_count": 0,
   "metadata": {
    "application/vnd.databricks.v1+cell": {
     "cellMetadata": {
      "byteLimit": 2048000,
      "implicitDf": true,
      "rowLimit": 10000
     },
     "collapsed": true,
     "inputWidgets": {},
     "nuid": "c7ae86e0-4297-4c60-b8a8-1bf169edab10",
     "showTitle": false,
     "tableResultSettingsMap": {},
     "title": ""
    }
   },
   "outputs": [],
   "source": [
    "df.createOrReplaceTempView(\"posts\")\n",
    "\n"
   ]
  },
  {
   "cell_type": "code",
   "execution_count": 0,
   "metadata": {
    "application/vnd.databricks.v1+cell": {
     "cellMetadata": {
      "byteLimit": 2048000,
      "implicitDf": true,
      "rowLimit": 10000
     },
     "inputWidgets": {},
     "nuid": "07b615ab-4757-4350-b2f9-35837ae5957f",
     "showTitle": false,
     "tableResultSettingsMap": {},
     "title": ""
    }
   },
   "outputs": [
    {
     "data": {
      "text/html": [
       "<style scoped>\n",
       "  .table-result-container {\n",
       "    max-height: 300px;\n",
       "    overflow: auto;\n",
       "  }\n",
       "  table, th, td {\n",
       "    border: 1px solid black;\n",
       "    border-collapse: collapse;\n",
       "  }\n",
       "  th, td {\n",
       "    padding: 5px;\n",
       "  }\n",
       "  th {\n",
       "    text-align: left;\n",
       "  }\n",
       "</style><div class='table-result-container'><table class='table-result'><thead style='background-color: white'><tr><th>id</th><th>title</th><th>body</th></tr></thead><tbody><tr><td>1</td><td>sunt aut facere repellat provident occaecati excepturi optio reprehenderit</td><td>quia et suscipit\n",
       "suscipit recusandae consequuntur expedita et cum\n",
       "reprehenderit molestiae ut ut quas totam\n",
       "nostrum rerum est autem sunt rem eveniet architecto</td></tr><tr><td>2</td><td>qui est esse</td><td>est rerum tempore vitae\n",
       "sequi sint nihil reprehenderit dolor beatae ea dolores neque\n",
       "fugiat blanditiis voluptate porro vel nihil molestiae ut reiciendis\n",
       "qui aperiam non debitis possimus qui neque nisi nulla</td></tr><tr><td>3</td><td>ea molestias quasi exercitationem repellat qui ipsa sit aut</td><td>et iusto sed quo iure\n",
       "voluptatem occaecati omnis eligendi aut ad\n",
       "voluptatem doloribus vel accusantium quis pariatur\n",
       "molestiae porro eius odio et labore et velit aut</td></tr><tr><td>4</td><td>eum et est occaecati</td><td>ullam et saepe reiciendis voluptatem adipisci\n",
       "sit amet autem assumenda provident rerum culpa\n",
       "quis hic commodi nesciunt rem tenetur doloremque ipsam iure\n",
       "quis sunt voluptatem rerum illo velit</td></tr><tr><td>5</td><td>nesciunt quas odio</td><td>repudiandae veniam quaerat sunt sed\n",
       "alias aut fugiat sit autem sed est\n",
       "voluptatem omnis possimus esse voluptatibus quis\n",
       "est aut tenetur dolor neque</td></tr><tr><td>6</td><td>dolorem eum magni eos aperiam quia</td><td>ut aspernatur corporis harum nihil quis provident sequi\n",
       "mollitia nobis aliquid molestiae\n",
       "perspiciatis et ea nemo ab reprehenderit accusantium quas\n",
       "voluptate dolores velit et doloremque molestiae</td></tr><tr><td>7</td><td>magnam facilis autem</td><td>dolore placeat quibusdam ea quo vitae\n",
       "magni quis enim qui quis quo nemo aut saepe\n",
       "quidem repellat excepturi ut quia\n",
       "sunt ut sequi eos ea sed quas</td></tr><tr><td>8</td><td>dolorem dolore est ipsam</td><td>dignissimos aperiam dolorem qui eum\n",
       "facilis quibusdam animi sint suscipit qui sint possimus cum\n",
       "quaerat magni maiores excepturi\n",
       "ipsam ut commodi dolor voluptatum modi aut vitae</td></tr><tr><td>9</td><td>nesciunt iure omnis dolorem tempora et accusantium</td><td>consectetur animi nesciunt iure dolore\n",
       "enim quia ad\n",
       "veniam autem ut quam aut nobis\n",
       "et est aut quod aut provident voluptas autem voluptas</td></tr><tr><td>10</td><td>optio molestias id quia eum</td><td>quo et expedita modi cum officia vel magni\n",
       "doloribus qui repudiandae\n",
       "vero nisi sit\n",
       "quos veniam quod sed accusamus veritatis error</td></tr></tbody></table></div>"
      ]
     },
     "metadata": {
      "application/vnd.databricks.v1+output": {
       "addedWidgets": {},
       "aggData": [],
       "aggError": "",
       "aggOverflow": false,
       "aggSchema": [],
       "aggSeriesLimitReached": false,
       "aggType": "",
       "arguments": {},
       "columnCustomDisplayInfos": {},
       "data": [
        [
         1,
         "sunt aut facere repellat provident occaecati excepturi optio reprehenderit",
         "quia et suscipit\nsuscipit recusandae consequuntur expedita et cum\nreprehenderit molestiae ut ut quas totam\nnostrum rerum est autem sunt rem eveniet architecto"
        ],
        [
         2,
         "qui est esse",
         "est rerum tempore vitae\nsequi sint nihil reprehenderit dolor beatae ea dolores neque\nfugiat blanditiis voluptate porro vel nihil molestiae ut reiciendis\nqui aperiam non debitis possimus qui neque nisi nulla"
        ],
        [
         3,
         "ea molestias quasi exercitationem repellat qui ipsa sit aut",
         "et iusto sed quo iure\nvoluptatem occaecati omnis eligendi aut ad\nvoluptatem doloribus vel accusantium quis pariatur\nmolestiae porro eius odio et labore et velit aut"
        ],
        [
         4,
         "eum et est occaecati",
         "ullam et saepe reiciendis voluptatem adipisci\nsit amet autem assumenda provident rerum culpa\nquis hic commodi nesciunt rem tenetur doloremque ipsam iure\nquis sunt voluptatem rerum illo velit"
        ],
        [
         5,
         "nesciunt quas odio",
         "repudiandae veniam quaerat sunt sed\nalias aut fugiat sit autem sed est\nvoluptatem omnis possimus esse voluptatibus quis\nest aut tenetur dolor neque"
        ],
        [
         6,
         "dolorem eum magni eos aperiam quia",
         "ut aspernatur corporis harum nihil quis provident sequi\nmollitia nobis aliquid molestiae\nperspiciatis et ea nemo ab reprehenderit accusantium quas\nvoluptate dolores velit et doloremque molestiae"
        ],
        [
         7,
         "magnam facilis autem",
         "dolore placeat quibusdam ea quo vitae\nmagni quis enim qui quis quo nemo aut saepe\nquidem repellat excepturi ut quia\nsunt ut sequi eos ea sed quas"
        ],
        [
         8,
         "dolorem dolore est ipsam",
         "dignissimos aperiam dolorem qui eum\nfacilis quibusdam animi sint suscipit qui sint possimus cum\nquaerat magni maiores excepturi\nipsam ut commodi dolor voluptatum modi aut vitae"
        ],
        [
         9,
         "nesciunt iure omnis dolorem tempora et accusantium",
         "consectetur animi nesciunt iure dolore\nenim quia ad\nveniam autem ut quam aut nobis\net est aut quod aut provident voluptas autem voluptas"
        ],
        [
         10,
         "optio molestias id quia eum",
         "quo et expedita modi cum officia vel magni\ndoloribus qui repudiandae\nvero nisi sit\nquos veniam quod sed accusamus veritatis error"
        ]
       ],
       "datasetInfos": [],
       "dbfsResultPath": null,
       "isJsonSchema": true,
       "metadata": {},
       "overflow": false,
       "plotOptions": {
        "customPlotOptions": {},
        "displayType": "table",
        "pivotAggregation": null,
        "pivotColumns": null,
        "xColumns": null,
        "yColumns": null
       },
       "removedWidgets": [],
       "schema": [
        {
         "metadata": "{}",
         "name": "id",
         "type": "\"long\""
        },
        {
         "metadata": "{}",
         "name": "title",
         "type": "\"string\""
        },
        {
         "metadata": "{}",
         "name": "body",
         "type": "\"string\""
        }
       ],
       "type": "table"
      }
     },
     "output_type": "display_data"
    }
   ],
   "source": [
    "%sql\n",
    "SELECT id, title, body FROM posts WHERE userId = 1;\n"
   ]
  },
  {
   "cell_type": "code",
   "execution_count": 0,
   "metadata": {
    "application/vnd.databricks.v1+cell": {
     "cellMetadata": {
      "byteLimit": 2048000,
      "implicitDf": true,
      "rowLimit": 10000
     },
     "inputWidgets": {},
     "nuid": "1139ed3d-9647-4b3c-8de0-70d5038ee184",
     "showTitle": false,
     "tableResultSettingsMap": {},
     "title": ""
    }
   },
   "outputs": [
    {
     "data": {
      "text/html": [
       "<style scoped>\n",
       "  .table-result-container {\n",
       "    max-height: 300px;\n",
       "    overflow: auto;\n",
       "  }\n",
       "  table, th, td {\n",
       "    border: 1px solid black;\n",
       "    border-collapse: collapse;\n",
       "  }\n",
       "  th, td {\n",
       "    padding: 5px;\n",
       "  }\n",
       "  th {\n",
       "    text-align: left;\n",
       "  }\n",
       "</style><div class='table-result-container'><table class='table-result'><thead style='background-color: white'><tr><th>userId</th><th>post_count</th></tr></thead><tbody><tr><td>7</td><td>10</td></tr><tr><td>6</td><td>10</td></tr><tr><td>9</td><td>10</td></tr><tr><td>5</td><td>10</td></tr><tr><td>1</td><td>10</td></tr><tr><td>10</td><td>10</td></tr><tr><td>3</td><td>10</td></tr><tr><td>8</td><td>10</td></tr><tr><td>2</td><td>10</td></tr><tr><td>4</td><td>10</td></tr></tbody></table></div>"
      ]
     },
     "metadata": {
      "application/vnd.databricks.v1+output": {
       "addedWidgets": {},
       "aggData": [],
       "aggError": "",
       "aggOverflow": false,
       "aggSchema": [],
       "aggSeriesLimitReached": false,
       "aggType": "",
       "arguments": {},
       "columnCustomDisplayInfos": {},
       "data": [
        [
         7,
         10
        ],
        [
         6,
         10
        ],
        [
         9,
         10
        ],
        [
         5,
         10
        ],
        [
         1,
         10
        ],
        [
         10,
         10
        ],
        [
         3,
         10
        ],
        [
         8,
         10
        ],
        [
         2,
         10
        ],
        [
         4,
         10
        ]
       ],
       "datasetInfos": [],
       "dbfsResultPath": null,
       "isJsonSchema": true,
       "metadata": {},
       "overflow": false,
       "plotOptions": {
        "customPlotOptions": {},
        "displayType": "table",
        "pivotAggregation": null,
        "pivotColumns": null,
        "xColumns": null,
        "yColumns": null
       },
       "removedWidgets": [],
       "schema": [
        {
         "metadata": "{}",
         "name": "userId",
         "type": "\"long\""
        },
        {
         "metadata": "{}",
         "name": "post_count",
         "type": "\"long\""
        }
       ],
       "type": "table"
      }
     },
     "output_type": "display_data"
    }
   ],
   "source": [
    "%sql\n",
    "SELECT userId, COUNT(*) AS post_count\n",
    "FROM posts\n",
    "GROUP BY userId\n",
    "ORDER BY post_count DESC;"
   ]
  },
  {
   "cell_type": "code",
   "execution_count": 0,
   "metadata": {
    "application/vnd.databricks.v1+cell": {
     "cellMetadata": {
      "byteLimit": 2048000,
      "implicitDf": true,
      "rowLimit": 10000
     },
     "inputWidgets": {},
     "nuid": "4ee66a79-28b1-4f8b-a302-396b34e7ff3d",
     "showTitle": false,
     "tableResultSettingsMap": {},
     "title": ""
    }
   },
   "outputs": [
    {
     "data": {
      "text/html": [
       "<style scoped>\n",
       "  .table-result-container {\n",
       "    max-height: 300px;\n",
       "    overflow: auto;\n",
       "  }\n",
       "  table, th, td {\n",
       "    border: 1px solid black;\n",
       "    border-collapse: collapse;\n",
       "  }\n",
       "  th, td {\n",
       "    padding: 5px;\n",
       "  }\n",
       "  th {\n",
       "    text-align: left;\n",
       "  }\n",
       "</style><div class='table-result-container'><table class='table-result'><thead style='background-color: white'><tr><th>id</th><th>title</th><th>title_length</th></tr></thead><tbody><tr><td>50</td><td>repellendus qui recusandae incidunt voluptates tenetur qui omnis exercitationem</td><td>79</td></tr><tr><td>43</td><td>eligendi iste nostrum consequuntur adipisci praesentium sit beatae perferendis</td><td>78</td></tr><tr><td>60</td><td>consequatur placeat omnis quisquam quia reprehenderit fugit veritatis facere</td><td>76</td></tr><tr><td>84</td><td>optio ipsam molestias necessitatibus occaecati facilis veritatis dolores aut</td><td>76</td></tr><tr><td>1</td><td>sunt aut facere repellat provident occaecati excepturi optio reprehenderit</td><td>74</td></tr><tr><td>63</td><td>voluptas blanditiis repellendus animi ducimus error sapiente et suscipit</td><td>72</td></tr><tr><td>42</td><td>commodi ullam sint et excepturi error explicabo praesentium voluptas</td><td>68</td></tr><tr><td>16</td><td>sint suscipit perspiciatis velit dolorum rerum ipsa laboriosam odio</td><td>67</td></tr><tr><td>52</td><td>qui enim et consequuntur quia animi quis voluptate quibusdam</td><td>60</td></tr><tr><td>85</td><td>dolore veritatis porro provident adipisci blanditiis et sunt</td><td>60</td></tr><tr><td>3</td><td>ea molestias quasi exercitationem repellat qui ipsa sit aut</td><td>59</td></tr><tr><td>96</td><td>quaerat velit veniam amet cupiditate aut numquam ut sequi</td><td>57</td></tr><tr><td>45</td><td>ut numquam possimus omnis eius suscipit laudantium iure</td><td>55</td></tr><tr><td>49</td><td>laborum non sunt aut ut assumenda perspiciatis voluptas</td><td>55</td></tr><tr><td>73</td><td>consequuntur deleniti eos quia temporibus ab aliquid at</td><td>55</td></tr><tr><td>21</td><td>asperiores ea ipsam voluptatibus modi minima quia sint</td><td>54</td></tr><tr><td>51</td><td>soluta aliquam aperiam consequatur illo quis voluptas</td><td>53</td></tr><tr><td>74</td><td>enim unde ratione doloribus quas enim ut sit sapiente</td><td>53</td></tr><tr><td>79</td><td>pariatur consequatur quia magnam autem omnis non amet</td><td>53</td></tr><tr><td>99</td><td>temporibus sit alias delectus eligendi possimus magni</td><td>53</td></tr><tr><td>38</td><td>explicabo et eos deleniti nostrum ab id repellendus</td><td>51</td></tr><tr><td>59</td><td>qui commodi dolor at maiores et quis id accusantium</td><td>51</td></tr><tr><td>9</td><td>nesciunt iure omnis dolorem tempora et accusantium</td><td>50</td></tr><tr><td>13</td><td>dolorum ut in voluptas mollitia et saepe quo animi</td><td>50</td></tr><tr><td>17</td><td>fugit voluptas sed molestias voluptatem provident</td><td>49</td></tr><tr><td>28</td><td>delectus ullam et corporis nulla voluptas sequi</td><td>47</td></tr><tr><td>61</td><td>voluptatem doloribus consectetur est ut ducimus</td><td>47</td></tr><tr><td>81</td><td>tempora rem veritatis voluptas quo dolores vero</td><td>47</td></tr><tr><td>35</td><td>id nihil consequatur molestias animi provident</td><td>46</td></tr><tr><td>36</td><td>fuga nam accusamus voluptas reiciendis itaque</td><td>45</td></tr><tr><td>68</td><td>odio quis facere architecto reiciendis optio</td><td>44</td></tr><tr><td>75</td><td>dignissimos eum dolor ut enim et delectus in</td><td>44</td></tr><tr><td>82</td><td>laudantium voluptate suscipit sunt enim enim</td><td>44</td></tr><tr><td>39</td><td>eos dolorem iste accusantium est eaque quam</td><td>43</td></tr><tr><td>48</td><td>ut voluptatem illum ea doloribus itaque eos</td><td>43</td></tr><tr><td>67</td><td>aliquid eos sed fuga est maxime repellendus</td><td>43</td></tr><tr><td>80</td><td>labore in ex et explicabo corporis aut quas</td><td>43</td></tr><tr><td>18</td><td>voluptate et itaque vero tempora molestiae</td><td>42</td></tr><tr><td>54</td><td>sit asperiores ipsam eveniet odio non quia</td><td>42</td></tr><tr><td>83</td><td>odit et voluptates doloribus alias odio et</td><td>42</td></tr><tr><td>97</td><td>quas fugiat ut perspiciatis vero provident</td><td>42</td></tr><tr><td>19</td><td>adipisci placeat illum aut reiciendis qui</td><td>41</td></tr><tr><td>22</td><td>dolor sint quo a velit explicabo quia nam</td><td>41</td></tr><tr><td>72</td><td>sint hic doloribus consequatur eos non id</td><td>41</td></tr><tr><td>76</td><td>doloremque officiis ad et non perferendis</td><td>41</td></tr><tr><td>77</td><td>necessitatibus quasi exercitationem odio</td><td>40</td></tr><tr><td>89</td><td>sint soluta et vel magnam aut ut sed qui</td><td>40</td></tr><tr><td>29</td><td>iusto eius quod necessitatibus culpa ea</td><td>39</td></tr><tr><td>31</td><td>ullam ut quidem id aut vel consequuntur</td><td>39</td></tr><tr><td>58</td><td>voluptatum itaque dolores nisi et quasi</td><td>39</td></tr><tr><td>24</td><td>autem hic labore sunt dolores incidunt</td><td>38</td></tr><tr><td>90</td><td>ad iusto omnis odit dolor voluptatibus</td><td>38</td></tr><tr><td>12</td><td>in quibusdam tempore odit est dolorem</td><td>37</td></tr><tr><td>27</td><td>quasi id et eos tenetur aut quo autem</td><td>37</td></tr><tr><td>95</td><td>id minus libero illum nam ad officiis</td><td>37</td></tr><tr><td>100</td><td>at nam consequatur ea labore ea harum</td><td>37</td></tr><tr><td>64</td><td>et fugit quas eum in in aperiam quod</td><td>36</td></tr><tr><td>94</td><td>qui qui voluptates illo iste minima</td><td>35</td></tr><tr><td>6</td><td>dolorem eum magni eos aperiam quia</td><td>34</td></tr><tr><td>20</td><td>doloribus ad provident suscipit at</td><td>34</td></tr><tr><td>46</td><td>aut quo modi neque nostrum ducimus</td><td>34</td></tr><tr><td>30</td><td>a quo magni similique perferendis</td><td>33</td></tr><tr><td>47</td><td>quibusdam cumque rem aut deserunt</td><td>33</td></tr><tr><td>71</td><td>et iusto veniam et illum aut fuga</td><td>33</td></tr><tr><td>78</td><td>quam voluptatibus rerum veritatis</td><td>33</td></tr><tr><td>11</td><td>et ea vero quia laudantium autem</td><td>32</td></tr><tr><td>37</td><td>provident vel ut sit ratione est</td><td>32</td></tr><tr><td>55</td><td>sit vel voluptatem et non libero</td><td>32</td></tr><tr><td>69</td><td>fugiat quod pariatur odit minima</td><td>32</td></tr><tr><td>33</td><td>qui explicabo molestiae dolorem</td><td>31</td></tr><tr><td>56</td><td>qui et at rerum necessitatibus</td><td>30</td></tr><tr><td>65</td><td>consequatur id enim sunt et et</td><td>30</td></tr><tr><td>92</td><td>ratione ex tenetur perferendis</td><td>30</td></tr><tr><td>23</td><td>maxime id vitae nihil numquam</td><td>29</td></tr><tr><td>25</td><td>rem alias distinctio quo quis</td><td>29</td></tr><tr><td>32</td><td>doloremque illum aliquid sunt</td><td>29</td></tr><tr><td>10</td><td>optio molestias id quia eum</td><td>27</td></tr><tr><td>98</td><td>laboriosam dolor voluptates</td><td>27</td></tr><tr><td>66</td><td>repudiandae ea animi iusto</td><td>26</td></tr><tr><td>86</td><td>placeat quia et porro iste</td><td>26</td></tr><tr><td>87</td><td>nostrum quis quasi placeat</td><td>26</td></tr><tr><td>14</td><td>voluptatem eligendi optio</td><td>25</td></tr><tr><td>44</td><td>optio dolor molestias sit</td><td>25</td></tr><tr><td>8</td><td>dolorem dolore est ipsam</td><td>24</td></tr><tr><td>26</td><td>est et quae odit qui non</td><td>24</td></tr><tr><td>53</td><td>ut quo aut ducimus alias</td><td>24</td></tr><tr><td>70</td><td>voluptatem laborum magni</td><td>24</td></tr><tr><td>88</td><td>sapiente omnis fugit eos</td><td>24</td></tr><tr><td>93</td><td>beatae soluta recusandae</td><td>24</td></tr><tr><td>15</td><td>eveniet quod temporibus</td><td>23</td></tr><tr><td>4</td><td>eum et est occaecati</td><td>20</td></tr><tr><td>7</td><td>magnam facilis autem</td><td>20</td></tr><tr><td>34</td><td>magnam ut rerum iure</td><td>20</td></tr><tr><td>62</td><td>beatae enim quia vel</td><td>20</td></tr><tr><td>5</td><td>nesciunt quas odio</td><td>18</td></tr><tr><td>40</td><td>enim quo cumque</td><td>15</td></tr><tr><td>41</td><td>non est facere</td><td>14</td></tr><tr><td>57</td><td>sed ab est est</td><td>14</td></tr><tr><td>2</td><td>qui est esse</td><td>12</td></tr><tr><td>91</td><td>aut amet sed</td><td>12</td></tr></tbody></table></div>"
      ]
     },
     "metadata": {
      "application/vnd.databricks.v1+output": {
       "addedWidgets": {},
       "aggData": [],
       "aggError": "",
       "aggOverflow": false,
       "aggSchema": [],
       "aggSeriesLimitReached": false,
       "aggType": "",
       "arguments": {},
       "columnCustomDisplayInfos": {},
       "data": [
        [
         50,
         "repellendus qui recusandae incidunt voluptates tenetur qui omnis exercitationem",
         79
        ],
        [
         43,
         "eligendi iste nostrum consequuntur adipisci praesentium sit beatae perferendis",
         78
        ],
        [
         60,
         "consequatur placeat omnis quisquam quia reprehenderit fugit veritatis facere",
         76
        ],
        [
         84,
         "optio ipsam molestias necessitatibus occaecati facilis veritatis dolores aut",
         76
        ],
        [
         1,
         "sunt aut facere repellat provident occaecati excepturi optio reprehenderit",
         74
        ],
        [
         63,
         "voluptas blanditiis repellendus animi ducimus error sapiente et suscipit",
         72
        ],
        [
         42,
         "commodi ullam sint et excepturi error explicabo praesentium voluptas",
         68
        ],
        [
         16,
         "sint suscipit perspiciatis velit dolorum rerum ipsa laboriosam odio",
         67
        ],
        [
         52,
         "qui enim et consequuntur quia animi quis voluptate quibusdam",
         60
        ],
        [
         85,
         "dolore veritatis porro provident adipisci blanditiis et sunt",
         60
        ],
        [
         3,
         "ea molestias quasi exercitationem repellat qui ipsa sit aut",
         59
        ],
        [
         96,
         "quaerat velit veniam amet cupiditate aut numquam ut sequi",
         57
        ],
        [
         45,
         "ut numquam possimus omnis eius suscipit laudantium iure",
         55
        ],
        [
         49,
         "laborum non sunt aut ut assumenda perspiciatis voluptas",
         55
        ],
        [
         73,
         "consequuntur deleniti eos quia temporibus ab aliquid at",
         55
        ],
        [
         21,
         "asperiores ea ipsam voluptatibus modi minima quia sint",
         54
        ],
        [
         51,
         "soluta aliquam aperiam consequatur illo quis voluptas",
         53
        ],
        [
         74,
         "enim unde ratione doloribus quas enim ut sit sapiente",
         53
        ],
        [
         79,
         "pariatur consequatur quia magnam autem omnis non amet",
         53
        ],
        [
         99,
         "temporibus sit alias delectus eligendi possimus magni",
         53
        ],
        [
         38,
         "explicabo et eos deleniti nostrum ab id repellendus",
         51
        ],
        [
         59,
         "qui commodi dolor at maiores et quis id accusantium",
         51
        ],
        [
         9,
         "nesciunt iure omnis dolorem tempora et accusantium",
         50
        ],
        [
         13,
         "dolorum ut in voluptas mollitia et saepe quo animi",
         50
        ],
        [
         17,
         "fugit voluptas sed molestias voluptatem provident",
         49
        ],
        [
         28,
         "delectus ullam et corporis nulla voluptas sequi",
         47
        ],
        [
         61,
         "voluptatem doloribus consectetur est ut ducimus",
         47
        ],
        [
         81,
         "tempora rem veritatis voluptas quo dolores vero",
         47
        ],
        [
         35,
         "id nihil consequatur molestias animi provident",
         46
        ],
        [
         36,
         "fuga nam accusamus voluptas reiciendis itaque",
         45
        ],
        [
         68,
         "odio quis facere architecto reiciendis optio",
         44
        ],
        [
         75,
         "dignissimos eum dolor ut enim et delectus in",
         44
        ],
        [
         82,
         "laudantium voluptate suscipit sunt enim enim",
         44
        ],
        [
         39,
         "eos dolorem iste accusantium est eaque quam",
         43
        ],
        [
         48,
         "ut voluptatem illum ea doloribus itaque eos",
         43
        ],
        [
         67,
         "aliquid eos sed fuga est maxime repellendus",
         43
        ],
        [
         80,
         "labore in ex et explicabo corporis aut quas",
         43
        ],
        [
         18,
         "voluptate et itaque vero tempora molestiae",
         42
        ],
        [
         54,
         "sit asperiores ipsam eveniet odio non quia",
         42
        ],
        [
         83,
         "odit et voluptates doloribus alias odio et",
         42
        ],
        [
         97,
         "quas fugiat ut perspiciatis vero provident",
         42
        ],
        [
         19,
         "adipisci placeat illum aut reiciendis qui",
         41
        ],
        [
         22,
         "dolor sint quo a velit explicabo quia nam",
         41
        ],
        [
         72,
         "sint hic doloribus consequatur eos non id",
         41
        ],
        [
         76,
         "doloremque officiis ad et non perferendis",
         41
        ],
        [
         77,
         "necessitatibus quasi exercitationem odio",
         40
        ],
        [
         89,
         "sint soluta et vel magnam aut ut sed qui",
         40
        ],
        [
         29,
         "iusto eius quod necessitatibus culpa ea",
         39
        ],
        [
         31,
         "ullam ut quidem id aut vel consequuntur",
         39
        ],
        [
         58,
         "voluptatum itaque dolores nisi et quasi",
         39
        ],
        [
         24,
         "autem hic labore sunt dolores incidunt",
         38
        ],
        [
         90,
         "ad iusto omnis odit dolor voluptatibus",
         38
        ],
        [
         12,
         "in quibusdam tempore odit est dolorem",
         37
        ],
        [
         27,
         "quasi id et eos tenetur aut quo autem",
         37
        ],
        [
         95,
         "id minus libero illum nam ad officiis",
         37
        ],
        [
         100,
         "at nam consequatur ea labore ea harum",
         37
        ],
        [
         64,
         "et fugit quas eum in in aperiam quod",
         36
        ],
        [
         94,
         "qui qui voluptates illo iste minima",
         35
        ],
        [
         6,
         "dolorem eum magni eos aperiam quia",
         34
        ],
        [
         20,
         "doloribus ad provident suscipit at",
         34
        ],
        [
         46,
         "aut quo modi neque nostrum ducimus",
         34
        ],
        [
         30,
         "a quo magni similique perferendis",
         33
        ],
        [
         47,
         "quibusdam cumque rem aut deserunt",
         33
        ],
        [
         71,
         "et iusto veniam et illum aut fuga",
         33
        ],
        [
         78,
         "quam voluptatibus rerum veritatis",
         33
        ],
        [
         11,
         "et ea vero quia laudantium autem",
         32
        ],
        [
         37,
         "provident vel ut sit ratione est",
         32
        ],
        [
         55,
         "sit vel voluptatem et non libero",
         32
        ],
        [
         69,
         "fugiat quod pariatur odit minima",
         32
        ],
        [
         33,
         "qui explicabo molestiae dolorem",
         31
        ],
        [
         56,
         "qui et at rerum necessitatibus",
         30
        ],
        [
         65,
         "consequatur id enim sunt et et",
         30
        ],
        [
         92,
         "ratione ex tenetur perferendis",
         30
        ],
        [
         23,
         "maxime id vitae nihil numquam",
         29
        ],
        [
         25,
         "rem alias distinctio quo quis",
         29
        ],
        [
         32,
         "doloremque illum aliquid sunt",
         29
        ],
        [
         10,
         "optio molestias id quia eum",
         27
        ],
        [
         98,
         "laboriosam dolor voluptates",
         27
        ],
        [
         66,
         "repudiandae ea animi iusto",
         26
        ],
        [
         86,
         "placeat quia et porro iste",
         26
        ],
        [
         87,
         "nostrum quis quasi placeat",
         26
        ],
        [
         14,
         "voluptatem eligendi optio",
         25
        ],
        [
         44,
         "optio dolor molestias sit",
         25
        ],
        [
         8,
         "dolorem dolore est ipsam",
         24
        ],
        [
         26,
         "est et quae odit qui non",
         24
        ],
        [
         53,
         "ut quo aut ducimus alias",
         24
        ],
        [
         70,
         "voluptatem laborum magni",
         24
        ],
        [
         88,
         "sapiente omnis fugit eos",
         24
        ],
        [
         93,
         "beatae soluta recusandae",
         24
        ],
        [
         15,
         "eveniet quod temporibus",
         23
        ],
        [
         4,
         "eum et est occaecati",
         20
        ],
        [
         7,
         "magnam facilis autem",
         20
        ],
        [
         34,
         "magnam ut rerum iure",
         20
        ],
        [
         62,
         "beatae enim quia vel",
         20
        ],
        [
         5,
         "nesciunt quas odio",
         18
        ],
        [
         40,
         "enim quo cumque",
         15
        ],
        [
         41,
         "non est facere",
         14
        ],
        [
         57,
         "sed ab est est",
         14
        ],
        [
         2,
         "qui est esse",
         12
        ],
        [
         91,
         "aut amet sed",
         12
        ]
       ],
       "datasetInfos": [],
       "dbfsResultPath": null,
       "isJsonSchema": true,
       "metadata": {},
       "overflow": false,
       "plotOptions": {
        "customPlotOptions": {},
        "displayType": "table",
        "pivotAggregation": null,
        "pivotColumns": null,
        "xColumns": null,
        "yColumns": null
       },
       "removedWidgets": [],
       "schema": [
        {
         "metadata": "{}",
         "name": "id",
         "type": "\"long\""
        },
        {
         "metadata": "{}",
         "name": "title",
         "type": "\"string\""
        },
        {
         "metadata": "{}",
         "name": "title_length",
         "type": "\"integer\""
        }
       ],
       "type": "table"
      }
     },
     "output_type": "display_data"
    }
   ],
   "source": [
    "%sql\n",
    "SELECT id, title, CHAR_LENGTH(title) AS title_length\n",
    "FROM posts\n",
    "ORDER BY title_length DESC;\n"
   ]
  },
  {
   "cell_type": "code",
   "execution_count": 0,
   "metadata": {
    "application/vnd.databricks.v1+cell": {
     "cellMetadata": {
      "byteLimit": 2048000,
      "implicitDf": true,
      "rowLimit": 10000
     },
     "inputWidgets": {},
     "nuid": "cb2cc1b9-369d-4e09-9b92-c43e6253e544",
     "showTitle": false,
     "tableResultSettingsMap": {},
     "title": ""
    }
   },
   "outputs": [
    {
     "data": {
      "text/html": [
       "<style scoped>\n",
       "  .table-result-container {\n",
       "    max-height: 300px;\n",
       "    overflow: auto;\n",
       "  }\n",
       "  table, th, td {\n",
       "    border: 1px solid black;\n",
       "    border-collapse: collapse;\n",
       "  }\n",
       "  th, td {\n",
       "    padding: 5px;\n",
       "  }\n",
       "  th {\n",
       "    text-align: left;\n",
       "  }\n",
       "</style><div class='table-result-container'><table class='table-result'><thead style='background-color: white'><tr><th>id</th><th>title</th><th>body</th></tr></thead><tbody><tr><td>3</td><td>ea molestias quasi exercitationem repellat qui ipsa sit aut</td><td>et iusto sed quo iure\n",
       "voluptatem occaecati omnis eligendi aut ad\n",
       "voluptatem doloribus vel accusantium quis pariatur\n",
       "molestiae porro eius odio et labore et velit aut</td></tr><tr><td>4</td><td>eum et est occaecati</td><td>ullam et saepe reiciendis voluptatem adipisci\n",
       "sit amet autem assumenda provident rerum culpa\n",
       "quis hic commodi nesciunt rem tenetur doloremque ipsam iure\n",
       "quis sunt voluptatem rerum illo velit</td></tr><tr><td>5</td><td>nesciunt quas odio</td><td>repudiandae veniam quaerat sunt sed\n",
       "alias aut fugiat sit autem sed est\n",
       "voluptatem omnis possimus esse voluptatibus quis\n",
       "est aut tenetur dolor neque</td></tr><tr><td>12</td><td>in quibusdam tempore odit est dolorem</td><td>itaque id aut magnam\n",
       "praesentium quia et ea odit et ea voluptas et\n",
       "sapiente quia nihil amet occaecati quia id voluptatem\n",
       "incidunt ea est distinctio odio</td></tr><tr><td>13</td><td>dolorum ut in voluptas mollitia et saepe quo animi</td><td>aut dicta possimus sint mollitia voluptas commodi quo doloremque\n",
       "iste corrupti reiciendis voluptatem eius rerum\n",
       "sit cumque quod eligendi laborum minima\n",
       "perferendis recusandae assumenda consectetur porro architecto ipsum ipsam</td></tr><tr><td>16</td><td>sint suscipit perspiciatis velit dolorum rerum ipsa laboriosam odio</td><td>suscipit nam nisi quo aperiam aut\n",
       "asperiores eos fugit maiores voluptatibus quia\n",
       "voluptatem quis ullam qui in alias quia est\n",
       "consequatur magni mollitia accusamus ea nisi voluptate dicta</td></tr><tr><td>18</td><td>voluptate et itaque vero tempora molestiae</td><td>eveniet quo quis\n",
       "laborum totam consequatur non dolor\n",
       "ut et est repudiandae\n",
       "est voluptatem vel debitis et magnam</td></tr><tr><td>24</td><td>autem hic labore sunt dolores incidunt</td><td>enim et ex nulla\n",
       "omnis voluptas quia qui\n",
       "voluptatem consequatur numquam aliquam sunt\n",
       "totam recusandae id dignissimos aut sed asperiores deserunt</td></tr><tr><td>28</td><td>delectus ullam et corporis nulla voluptas sequi</td><td>non et quaerat ex quae ad maiores\n",
       "maiores recusandae totam aut blanditiis mollitia quas illo\n",
       "ut voluptatibus voluptatem\n",
       "similique nostrum eum</td></tr><tr><td>31</td><td>ullam ut quidem id aut vel consequuntur</td><td>debitis eius sed quibusdam non quis consectetur vitae\n",
       "impedit ut qui consequatur sed aut in\n",
       "quidem sit nostrum et maiores adipisci atque\n",
       "quaerat voluptatem adipisci repudiandae</td></tr><tr><td>34</td><td>magnam ut rerum iure</td><td>ea velit perferendis earum ut voluptatem voluptate itaque iusto\n",
       "totam pariatur in\n",
       "nemo voluptatem voluptatem autem magni tempora minima in\n",
       "est distinctio qui assumenda accusamus dignissimos officia nesciunt nobis</td></tr><tr><td>35</td><td>id nihil consequatur molestias animi provident</td><td>nisi error delectus possimus ut eligendi vitae\n",
       "placeat eos harum cupiditate facilis reprehenderit voluptatem beatae\n",
       "modi ducimus quo illum voluptas eligendi\n",
       "et nobis quia fugit</td></tr><tr><td>37</td><td>provident vel ut sit ratione est</td><td>debitis et eaque non officia sed nesciunt pariatur vel\n",
       "voluptatem iste vero et ea\n",
       "numquam aut expedita ipsum nulla in\n",
       "voluptates omnis consequatur aut enim officiis in quam qui</td></tr><tr><td>38</td><td>explicabo et eos deleniti nostrum ab id repellendus</td><td>animi esse sit aut sit nesciunt assumenda eum voluptas\n",
       "quia voluptatibus provident quia necessitatibus ea\n",
       "rerum repudiandae quia voluptatem delectus fugit aut id quia\n",
       "ratione optio eos iusto veniam iure</td></tr><tr><td>39</td><td>eos dolorem iste accusantium est eaque quam</td><td>corporis rerum ducimus vel eum accusantium\n",
       "maxime aspernatur a porro possimus iste omnis\n",
       "est in deleniti asperiores fuga aut\n",
       "voluptas sapiente vel dolore minus voluptatem incidunt ex</td></tr><tr><td>40</td><td>enim quo cumque</td><td>ut voluptatum aliquid illo tenetur nemo sequi quo facilis\n",
       "ipsum rem optio mollitia quas\n",
       "voluptatem eum voluptas qui\n",
       "unde omnis voluptatem iure quasi maxime voluptas nam</td></tr><tr><td>42</td><td>commodi ullam sint et excepturi error explicabo praesentium voluptas</td><td>odio fugit voluptatum ducimus earum autem est incidunt voluptatem\n",
       "odit reiciendis aliquam sunt sequi nulla dolorem\n",
       "non facere repellendus voluptates quia\n",
       "ratione harum vitae ut</td></tr><tr><td>46</td><td>aut quo modi neque nostrum ducimus</td><td>voluptatem quisquam iste\n",
       "voluptatibus natus officiis facilis dolorem\n",
       "quis quas ipsam\n",
       "vel et voluptatum in aliquid</td></tr><tr><td>47</td><td>quibusdam cumque rem aut deserunt</td><td>voluptatem assumenda ut qui ut cupiditate aut impedit veniam\n",
       "occaecati nemo illum voluptatem laudantium\n",
       "molestiae beatae rerum ea iure soluta nostrum\n",
       "eligendi et voluptate</td></tr><tr><td>48</td><td>ut voluptatem illum ea doloribus itaque eos</td><td>voluptates quo voluptatem facilis iure occaecati\n",
       "vel assumenda rerum officia et\n",
       "illum perspiciatis ab deleniti\n",
       "laudantium repellat ad ut et autem reprehenderit</td></tr><tr><td>57</td><td>sed ab est est</td><td>at pariatur consequuntur earum quidem\n",
       "quo est laudantium soluta voluptatem\n",
       "qui ullam et est\n",
       "et cum voluptas voluptatum repellat est</td></tr><tr><td>64</td><td>et fugit quas eum in in aperiam quod</td><td>id velit blanditiis\n",
       "eum ea voluptatem\n",
       "molestiae sint occaecati est eos perspiciatis\n",
       "incidunt a error provident eaque aut aut qui</td></tr><tr><td>73</td><td>consequuntur deleniti eos quia temporibus ab aliquid at</td><td>voluptatem cumque tenetur consequatur expedita ipsum nemo quia explicabo\n",
       "aut eum minima consequatur\n",
       "tempore cumque quae est et\n",
       "et in consequuntur voluptatem voluptates aut</td></tr><tr><td>75</td><td>dignissimos eum dolor ut enim et delectus in</td><td>commodi non non omnis et voluptas sit\n",
       "autem aut nobis magnam et sapiente voluptatem\n",
       "et laborum repellat qui delectus facilis temporibus\n",
       "rerum amet et nemo voluptate expedita adipisci error dolorem</td></tr><tr><td>81</td><td>tempora rem veritatis voluptas quo dolores vero</td><td>facere qui nesciunt est voluptatum voluptatem nisi\n",
       "sequi eligendi necessitatibus ea at rerum itaque\n",
       "harum non ratione velit laboriosam quis consequuntur\n",
       "ex officiis minima doloremque voluptas ut aut</td></tr><tr><td>86</td><td>placeat quia et porro iste</td><td>quasi excepturi consequatur iste autem temporibus sed molestiae beatae\n",
       "et quaerat et esse ut\n",
       "voluptatem occaecati et vel explicabo autem\n",
       "asperiores pariatur deserunt optio</td></tr><tr><td>90</td><td>ad iusto omnis odit dolor voluptatibus</td><td>minus omnis soluta quia\n",
       "qui sed adipisci voluptates illum ipsam voluptatem\n",
       "eligendi officia ut in\n",
       "eos soluta similique molestias praesentium blanditiis</td></tr><tr><td>93</td><td>beatae soluta recusandae</td><td>dolorem quibusdam ducimus consequuntur dicta aut quo laboriosam\n",
       "voluptatem quis enim recusandae ut sed sunt\n",
       "nostrum est odit totam\n",
       "sit error sed sunt eveniet provident qui nulla</td></tr><tr><td>95</td><td>id minus libero illum nam ad officiis</td><td>earum voluptatem facere provident blanditiis velit laboriosam\n",
       "pariatur accusamus odio saepe\n",
       "cumque dolor qui a dicta ab doloribus consequatur omnis\n",
       "corporis cupiditate eaque assumenda ad nesciunt</td></tr><tr><td>97</td><td>quas fugiat ut perspiciatis vero provident</td><td>eum non blanditiis soluta porro quibusdam voluptas\n",
       "vel voluptatem qui placeat dolores qui velit aut\n",
       "vel inventore aut cumque culpa explicabo aliquid at\n",
       "perspiciatis est et voluptatem dignissimos dolor itaque sit nam</td></tr></tbody></table></div>"
      ]
     },
     "metadata": {
      "application/vnd.databricks.v1+output": {
       "addedWidgets": {},
       "aggData": [],
       "aggError": "",
       "aggOverflow": false,
       "aggSchema": [],
       "aggSeriesLimitReached": false,
       "aggType": "",
       "arguments": {},
       "columnCustomDisplayInfos": {},
       "data": [
        [
         3,
         "ea molestias quasi exercitationem repellat qui ipsa sit aut",
         "et iusto sed quo iure\nvoluptatem occaecati omnis eligendi aut ad\nvoluptatem doloribus vel accusantium quis pariatur\nmolestiae porro eius odio et labore et velit aut"
        ],
        [
         4,
         "eum et est occaecati",
         "ullam et saepe reiciendis voluptatem adipisci\nsit amet autem assumenda provident rerum culpa\nquis hic commodi nesciunt rem tenetur doloremque ipsam iure\nquis sunt voluptatem rerum illo velit"
        ],
        [
         5,
         "nesciunt quas odio",
         "repudiandae veniam quaerat sunt sed\nalias aut fugiat sit autem sed est\nvoluptatem omnis possimus esse voluptatibus quis\nest aut tenetur dolor neque"
        ],
        [
         12,
         "in quibusdam tempore odit est dolorem",
         "itaque id aut magnam\npraesentium quia et ea odit et ea voluptas et\nsapiente quia nihil amet occaecati quia id voluptatem\nincidunt ea est distinctio odio"
        ],
        [
         13,
         "dolorum ut in voluptas mollitia et saepe quo animi",
         "aut dicta possimus sint mollitia voluptas commodi quo doloremque\niste corrupti reiciendis voluptatem eius rerum\nsit cumque quod eligendi laborum minima\nperferendis recusandae assumenda consectetur porro architecto ipsum ipsam"
        ],
        [
         16,
         "sint suscipit perspiciatis velit dolorum rerum ipsa laboriosam odio",
         "suscipit nam nisi quo aperiam aut\nasperiores eos fugit maiores voluptatibus quia\nvoluptatem quis ullam qui in alias quia est\nconsequatur magni mollitia accusamus ea nisi voluptate dicta"
        ],
        [
         18,
         "voluptate et itaque vero tempora molestiae",
         "eveniet quo quis\nlaborum totam consequatur non dolor\nut et est repudiandae\nest voluptatem vel debitis et magnam"
        ],
        [
         24,
         "autem hic labore sunt dolores incidunt",
         "enim et ex nulla\nomnis voluptas quia qui\nvoluptatem consequatur numquam aliquam sunt\ntotam recusandae id dignissimos aut sed asperiores deserunt"
        ],
        [
         28,
         "delectus ullam et corporis nulla voluptas sequi",
         "non et quaerat ex quae ad maiores\nmaiores recusandae totam aut blanditiis mollitia quas illo\nut voluptatibus voluptatem\nsimilique nostrum eum"
        ],
        [
         31,
         "ullam ut quidem id aut vel consequuntur",
         "debitis eius sed quibusdam non quis consectetur vitae\nimpedit ut qui consequatur sed aut in\nquidem sit nostrum et maiores adipisci atque\nquaerat voluptatem adipisci repudiandae"
        ],
        [
         34,
         "magnam ut rerum iure",
         "ea velit perferendis earum ut voluptatem voluptate itaque iusto\ntotam pariatur in\nnemo voluptatem voluptatem autem magni tempora minima in\nest distinctio qui assumenda accusamus dignissimos officia nesciunt nobis"
        ],
        [
         35,
         "id nihil consequatur molestias animi provident",
         "nisi error delectus possimus ut eligendi vitae\nplaceat eos harum cupiditate facilis reprehenderit voluptatem beatae\nmodi ducimus quo illum voluptas eligendi\net nobis quia fugit"
        ],
        [
         37,
         "provident vel ut sit ratione est",
         "debitis et eaque non officia sed nesciunt pariatur vel\nvoluptatem iste vero et ea\nnumquam aut expedita ipsum nulla in\nvoluptates omnis consequatur aut enim officiis in quam qui"
        ],
        [
         38,
         "explicabo et eos deleniti nostrum ab id repellendus",
         "animi esse sit aut sit nesciunt assumenda eum voluptas\nquia voluptatibus provident quia necessitatibus ea\nrerum repudiandae quia voluptatem delectus fugit aut id quia\nratione optio eos iusto veniam iure"
        ],
        [
         39,
         "eos dolorem iste accusantium est eaque quam",
         "corporis rerum ducimus vel eum accusantium\nmaxime aspernatur a porro possimus iste omnis\nest in deleniti asperiores fuga aut\nvoluptas sapiente vel dolore minus voluptatem incidunt ex"
        ],
        [
         40,
         "enim quo cumque",
         "ut voluptatum aliquid illo tenetur nemo sequi quo facilis\nipsum rem optio mollitia quas\nvoluptatem eum voluptas qui\nunde omnis voluptatem iure quasi maxime voluptas nam"
        ],
        [
         42,
         "commodi ullam sint et excepturi error explicabo praesentium voluptas",
         "odio fugit voluptatum ducimus earum autem est incidunt voluptatem\nodit reiciendis aliquam sunt sequi nulla dolorem\nnon facere repellendus voluptates quia\nratione harum vitae ut"
        ],
        [
         46,
         "aut quo modi neque nostrum ducimus",
         "voluptatem quisquam iste\nvoluptatibus natus officiis facilis dolorem\nquis quas ipsam\nvel et voluptatum in aliquid"
        ],
        [
         47,
         "quibusdam cumque rem aut deserunt",
         "voluptatem assumenda ut qui ut cupiditate aut impedit veniam\noccaecati nemo illum voluptatem laudantium\nmolestiae beatae rerum ea iure soluta nostrum\neligendi et voluptate"
        ],
        [
         48,
         "ut voluptatem illum ea doloribus itaque eos",
         "voluptates quo voluptatem facilis iure occaecati\nvel assumenda rerum officia et\nillum perspiciatis ab deleniti\nlaudantium repellat ad ut et autem reprehenderit"
        ],
        [
         57,
         "sed ab est est",
         "at pariatur consequuntur earum quidem\nquo est laudantium soluta voluptatem\nqui ullam et est\net cum voluptas voluptatum repellat est"
        ],
        [
         64,
         "et fugit quas eum in in aperiam quod",
         "id velit blanditiis\neum ea voluptatem\nmolestiae sint occaecati est eos perspiciatis\nincidunt a error provident eaque aut aut qui"
        ],
        [
         73,
         "consequuntur deleniti eos quia temporibus ab aliquid at",
         "voluptatem cumque tenetur consequatur expedita ipsum nemo quia explicabo\naut eum minima consequatur\ntempore cumque quae est et\net in consequuntur voluptatem voluptates aut"
        ],
        [
         75,
         "dignissimos eum dolor ut enim et delectus in",
         "commodi non non omnis et voluptas sit\nautem aut nobis magnam et sapiente voluptatem\net laborum repellat qui delectus facilis temporibus\nrerum amet et nemo voluptate expedita adipisci error dolorem"
        ],
        [
         81,
         "tempora rem veritatis voluptas quo dolores vero",
         "facere qui nesciunt est voluptatum voluptatem nisi\nsequi eligendi necessitatibus ea at rerum itaque\nharum non ratione velit laboriosam quis consequuntur\nex officiis minima doloremque voluptas ut aut"
        ],
        [
         86,
         "placeat quia et porro iste",
         "quasi excepturi consequatur iste autem temporibus sed molestiae beatae\net quaerat et esse ut\nvoluptatem occaecati et vel explicabo autem\nasperiores pariatur deserunt optio"
        ],
        [
         90,
         "ad iusto omnis odit dolor voluptatibus",
         "minus omnis soluta quia\nqui sed adipisci voluptates illum ipsam voluptatem\neligendi officia ut in\neos soluta similique molestias praesentium blanditiis"
        ],
        [
         93,
         "beatae soluta recusandae",
         "dolorem quibusdam ducimus consequuntur dicta aut quo laboriosam\nvoluptatem quis enim recusandae ut sed sunt\nnostrum est odit totam\nsit error sed sunt eveniet provident qui nulla"
        ],
        [
         95,
         "id minus libero illum nam ad officiis",
         "earum voluptatem facere provident blanditiis velit laboriosam\npariatur accusamus odio saepe\ncumque dolor qui a dicta ab doloribus consequatur omnis\ncorporis cupiditate eaque assumenda ad nesciunt"
        ],
        [
         97,
         "quas fugiat ut perspiciatis vero provident",
         "eum non blanditiis soluta porro quibusdam voluptas\nvel voluptatem qui placeat dolores qui velit aut\nvel inventore aut cumque culpa explicabo aliquid at\nperspiciatis est et voluptatem dignissimos dolor itaque sit nam"
        ]
       ],
       "datasetInfos": [],
       "dbfsResultPath": null,
       "isJsonSchema": true,
       "metadata": {},
       "overflow": false,
       "plotOptions": {
        "customPlotOptions": {},
        "displayType": "table",
        "pivotAggregation": null,
        "pivotColumns": null,
        "xColumns": null,
        "yColumns": null
       },
       "removedWidgets": [],
       "schema": [
        {
         "metadata": "{}",
         "name": "id",
         "type": "\"long\""
        },
        {
         "metadata": "{}",
         "name": "title",
         "type": "\"string\""
        },
        {
         "metadata": "{}",
         "name": "body",
         "type": "\"string\""
        }
       ],
       "type": "table"
      }
     },
     "output_type": "display_data"
    }
   ],
   "source": [
    "%sql\n",
    "SELECT id, title, body\n",
    "FROM posts\n",
    "WHERE LOWER(body) LIKE '%voluptatem%'  "
   ]
  },
  {
   "cell_type": "code",
   "execution_count": 0,
   "metadata": {
    "application/vnd.databricks.v1+cell": {
     "cellMetadata": {
      "byteLimit": 2048000,
      "implicitDf": true,
      "rowLimit": 10000
     },
     "inputWidgets": {},
     "nuid": "27a46d24-3039-4e74-9467-59d12df6910c",
     "showTitle": false,
     "tableResultSettingsMap": {},
     "title": ""
    }
   },
   "outputs": [
    {
     "data": {
      "text/html": [
       "<style scoped>\n",
       "  .table-result-container {\n",
       "    max-height: 300px;\n",
       "    overflow: auto;\n",
       "  }\n",
       "  table, th, td {\n",
       "    border: 1px solid black;\n",
       "    border-collapse: collapse;\n",
       "  }\n",
       "  th, td {\n",
       "    padding: 5px;\n",
       "  }\n",
       "  th {\n",
       "    text-align: left;\n",
       "  }\n",
       "</style><div class='table-result-container'><table class='table-result'><thead style='background-color: white'><tr><th>id</th><th>title</th><th>word_count</th></tr></thead><tbody><tr><td>59</td><td>qui commodi dolor at maiores et quis id accusantium</td><td>29</td></tr><tr><td>36</td><td>fuga nam accusamus voluptas reiciendis itaque</td><td>29</td></tr><tr><td>97</td><td>quas fugiat ut perspiciatis vero provident</td><td>29</td></tr><tr><td>2</td><td>qui est esse</td><td>28</td></tr><tr><td>69</td><td>fugiat quod pariatur odit minima</td><td>28</td></tr><tr><td>38</td><td>explicabo et eos deleniti nostrum ab id repellendus</td><td>27</td></tr><tr><td>75</td><td>dignissimos eum dolor ut enim et delectus in</td><td>27</td></tr><tr><td>13</td><td>dolorum ut in voluptas mollitia et saepe quo animi</td><td>26</td></tr><tr><td>43</td><td>eligendi iste nostrum consequuntur adipisci praesentium sit beatae perferendis</td><td>26</td></tr><tr><td>34</td><td>magnam ut rerum iure</td><td>26</td></tr></tbody></table></div>"
      ]
     },
     "metadata": {
      "application/vnd.databricks.v1+output": {
       "addedWidgets": {},
       "aggData": [],
       "aggError": "",
       "aggOverflow": false,
       "aggSchema": [],
       "aggSeriesLimitReached": false,
       "aggType": "",
       "arguments": {},
       "columnCustomDisplayInfos": {},
       "data": [
        [
         59,
         "qui commodi dolor at maiores et quis id accusantium",
         29
        ],
        [
         36,
         "fuga nam accusamus voluptas reiciendis itaque",
         29
        ],
        [
         97,
         "quas fugiat ut perspiciatis vero provident",
         29
        ],
        [
         2,
         "qui est esse",
         28
        ],
        [
         69,
         "fugiat quod pariatur odit minima",
         28
        ],
        [
         38,
         "explicabo et eos deleniti nostrum ab id repellendus",
         27
        ],
        [
         75,
         "dignissimos eum dolor ut enim et delectus in",
         27
        ],
        [
         13,
         "dolorum ut in voluptas mollitia et saepe quo animi",
         26
        ],
        [
         43,
         "eligendi iste nostrum consequuntur adipisci praesentium sit beatae perferendis",
         26
        ],
        [
         34,
         "magnam ut rerum iure",
         26
        ]
       ],
       "datasetInfos": [],
       "dbfsResultPath": null,
       "isJsonSchema": true,
       "metadata": {},
       "overflow": false,
       "plotOptions": {
        "customPlotOptions": {},
        "displayType": "table",
        "pivotAggregation": null,
        "pivotColumns": null,
        "xColumns": null,
        "yColumns": null
       },
       "removedWidgets": [],
       "schema": [
        {
         "metadata": "{}",
         "name": "id",
         "type": "\"long\""
        },
        {
         "metadata": "{}",
         "name": "title",
         "type": "\"string\""
        },
        {
         "metadata": "{}",
         "name": "word_count",
         "type": "\"integer\""
        }
       ],
       "type": "table"
      }
     },
     "output_type": "display_data"
    }
   ],
   "source": [
    "%sql\n",
    "SELECT id, title,\n",
    "        CHAR_LENGTH(body) - CHAR_LENGTH(REPLACE(body, ' ', '')) + 1 AS word_count\n",
    "FROM posts\n",
    "ORDER BY word_count DESC\n",
    "LIMIT 10;"
   ]
  },
  {
   "cell_type": "code",
   "execution_count": 0,
   "metadata": {
    "application/vnd.databricks.v1+cell": {
     "cellMetadata": {
      "byteLimit": 2048000,
      "implicitDf": true,
      "rowLimit": 10000
     },
     "inputWidgets": {},
     "nuid": "e1622e9a-51e5-483b-b6fe-a3bc22fc1a45",
     "showTitle": false,
     "tableResultSettingsMap": {},
     "title": ""
    }
   },
   "outputs": [
    {
     "data": {
      "text/html": [
       "<style scoped>\n",
       "  .table-result-container {\n",
       "    max-height: 300px;\n",
       "    overflow: auto;\n",
       "  }\n",
       "  table, th, td {\n",
       "    border: 1px solid black;\n",
       "    border-collapse: collapse;\n",
       "  }\n",
       "  th, td {\n",
       "    padding: 5px;\n",
       "  }\n",
       "  th {\n",
       "    text-align: left;\n",
       "  }\n",
       "</style><div class='table-result-container'><table class='table-result'><thead style='background-color: white'><tr><th>userId</th><th>long_posts</th></tr></thead><tbody><tr><td>4</td><td>4</td></tr><tr><td>7</td><td>1</td></tr><tr><td>6</td><td>1</td></tr><tr><td>5</td><td>1</td></tr><tr><td>1</td><td>1</td></tr><tr><td>10</td><td>1</td></tr><tr><td>8</td><td>1</td></tr><tr><td>2</td><td>1</td></tr></tbody></table></div>"
      ]
     },
     "metadata": {
      "application/vnd.databricks.v1+output": {
       "addedWidgets": {},
       "aggData": [],
       "aggError": "",
       "aggOverflow": false,
       "aggSchema": [],
       "aggSeriesLimitReached": false,
       "aggType": "",
       "arguments": {},
       "columnCustomDisplayInfos": {},
       "data": [
        [
         4,
         4
        ],
        [
         7,
         1
        ],
        [
         6,
         1
        ],
        [
         5,
         1
        ],
        [
         1,
         1
        ],
        [
         10,
         1
        ],
        [
         8,
         1
        ],
        [
         2,
         1
        ]
       ],
       "datasetInfos": [],
       "dbfsResultPath": null,
       "isJsonSchema": true,
       "metadata": {},
       "overflow": false,
       "plotOptions": {
        "customPlotOptions": {},
        "displayType": "table",
        "pivotAggregation": null,
        "pivotColumns": null,
        "xColumns": null,
        "yColumns": null
       },
       "removedWidgets": [],
       "schema": [
        {
         "metadata": "{}",
         "name": "userId",
         "type": "\"long\""
        },
        {
         "metadata": "{}",
         "name": "long_posts",
         "type": "\"long\""
        }
       ],
       "type": "table"
      }
     },
     "output_type": "display_data"
    }
   ],
   "source": [
    "%sql\n",
    "SELECT userId, COUNT(*) AS long_posts\n",
    "FROM posts\n",
    "WHERE CHAR_LENGTH(body) - CHAR_LENGTH(REPLACE(body, ' ', '')) + 1 > 25\n",
    "GROUP BY userId\n",
    "ORDER BY long_posts DESC\n",
    "LIMIT 10;"
   ]
  },
  {
   "cell_type": "code",
   "execution_count": 0,
   "metadata": {
    "application/vnd.databricks.v1+cell": {
     "cellMetadata": {
      "byteLimit": 2048000,
      "implicitDf": true,
      "rowLimit": 10000
     },
     "inputWidgets": {},
     "nuid": "ef659970-6c55-42f4-b35b-0e2c726df522",
     "showTitle": false,
     "tableResultSettingsMap": {},
     "title": ""
    }
   },
   "outputs": [
    {
     "data": {
      "text/html": [
       "<style scoped>\n",
       "  .table-result-container {\n",
       "    max-height: 300px;\n",
       "    overflow: auto;\n",
       "  }\n",
       "  table, th, td {\n",
       "    border: 1px solid black;\n",
       "    border-collapse: collapse;\n",
       "  }\n",
       "  th, td {\n",
       "    padding: 5px;\n",
       "  }\n",
       "  th {\n",
       "    text-align: left;\n",
       "  }\n",
       "</style><div class='table-result-container'><table class='table-result'><thead style='background-color: white'><tr><th>id</th><th>title</th><th>special_char</th></tr></thead><tbody><tr><td>1</td><td>sunt aut facere repellat provident occaecati excepturi optio reprehenderit</td><td>3</td></tr><tr><td>2</td><td>qui est esse</td><td>3</td></tr><tr><td>3</td><td>ea molestias quasi exercitationem repellat qui ipsa sit aut</td><td>3</td></tr><tr><td>4</td><td>eum et est occaecati</td><td>3</td></tr><tr><td>5</td><td>nesciunt quas odio</td><td>3</td></tr><tr><td>6</td><td>dolorem eum magni eos aperiam quia</td><td>3</td></tr><tr><td>7</td><td>magnam facilis autem</td><td>3</td></tr><tr><td>8</td><td>dolorem dolore est ipsam</td><td>3</td></tr><tr><td>9</td><td>nesciunt iure omnis dolorem tempora et accusantium</td><td>3</td></tr><tr><td>10</td><td>optio molestias id quia eum</td><td>3</td></tr></tbody></table></div>"
      ]
     },
     "metadata": {
      "application/vnd.databricks.v1+output": {
       "addedWidgets": {},
       "aggData": [],
       "aggError": "",
       "aggOverflow": false,
       "aggSchema": [],
       "aggSeriesLimitReached": false,
       "aggType": "",
       "arguments": {},
       "columnCustomDisplayInfos": {},
       "data": [
        [
         1,
         "sunt aut facere repellat provident occaecati excepturi optio reprehenderit",
         3
        ],
        [
         2,
         "qui est esse",
         3
        ],
        [
         3,
         "ea molestias quasi exercitationem repellat qui ipsa sit aut",
         3
        ],
        [
         4,
         "eum et est occaecati",
         3
        ],
        [
         5,
         "nesciunt quas odio",
         3
        ],
        [
         6,
         "dolorem eum magni eos aperiam quia",
         3
        ],
        [
         7,
         "magnam facilis autem",
         3
        ],
        [
         8,
         "dolorem dolore est ipsam",
         3
        ],
        [
         9,
         "nesciunt iure omnis dolorem tempora et accusantium",
         3
        ],
        [
         10,
         "optio molestias id quia eum",
         3
        ]
       ],
       "datasetInfos": [],
       "dbfsResultPath": null,
       "isJsonSchema": true,
       "metadata": {},
       "overflow": false,
       "plotOptions": {
        "customPlotOptions": {},
        "displayType": "table",
        "pivotAggregation": null,
        "pivotColumns": null,
        "xColumns": null,
        "yColumns": null
       },
       "removedWidgets": [],
       "schema": [
        {
         "metadata": "{}",
         "name": "id",
         "type": "\"long\""
        },
        {
         "metadata": "{}",
         "name": "title",
         "type": "\"string\""
        },
        {
         "metadata": "{}",
         "name": "special_char",
         "type": "\"integer\""
        }
       ],
       "type": "table"
      }
     },
     "output_type": "display_data"
    }
   ],
   "source": [
    "%sql\n",
    "SELECT id, title,\n",
    "        CHAR_LENGTH(TRANSLATE(body, 'abcdefghijklmnopqrstuvwxyz ', '')) AS special_char\n",
    "FROM posts\n",
    "ORDER BY special_char DESC\n",
    "LIMIT 10;"
   ]
  },
  {
   "cell_type": "code",
   "execution_count": 0,
   "metadata": {
    "application/vnd.databricks.v1+cell": {
     "cellMetadata": {
      "byteLimit": 2048000,
      "implicitDf": true,
      "rowLimit": 10000
     },
     "inputWidgets": {},
     "nuid": "65cb6a35-be5b-4672-a1b0-d1c490a395a1",
     "showTitle": false,
     "tableResultSettingsMap": {},
     "title": ""
    }
   },
   "outputs": [
    {
     "data": {
      "text/html": [
       "<style scoped>\n",
       "  .table-result-container {\n",
       "    max-height: 300px;\n",
       "    overflow: auto;\n",
       "  }\n",
       "  table, th, td {\n",
       "    border: 1px solid black;\n",
       "    border-collapse: collapse;\n",
       "  }\n",
       "  th, td {\n",
       "    padding: 5px;\n",
       "  }\n",
       "  th {\n",
       "    text-align: left;\n",
       "  }\n",
       "</style><div class='table-result-container'><table class='table-result'><thead style='background-color: white'><tr><th>userId</th><th>avarage_word</th></tr></thead><tbody><tr><td>4</td><td>24.7</td></tr><tr><td>1</td><td>22.4</td></tr><tr><td>2</td><td>21.0</td></tr><tr><td>8</td><td>20.8</td></tr><tr><td>5</td><td>20.7</td></tr><tr><td>7</td><td>20.4</td></tr><tr><td>10</td><td>20.2</td></tr><tr><td>3</td><td>19.9</td></tr><tr><td>9</td><td>19.3</td></tr><tr><td>6</td><td>19.1</td></tr></tbody></table></div>"
      ]
     },
     "metadata": {
      "application/vnd.databricks.v1+output": {
       "addedWidgets": {},
       "aggData": [],
       "aggError": "",
       "aggOverflow": false,
       "aggSchema": [],
       "aggSeriesLimitReached": false,
       "aggType": "",
       "arguments": {},
       "columnCustomDisplayInfos": {},
       "data": [
        [
         4,
         24.7
        ],
        [
         1,
         22.4
        ],
        [
         2,
         21
        ],
        [
         8,
         20.8
        ],
        [
         5,
         20.7
        ],
        [
         7,
         20.4
        ],
        [
         10,
         20.2
        ],
        [
         3,
         19.9
        ],
        [
         9,
         19.3
        ],
        [
         6,
         19.1
        ]
       ],
       "datasetInfos": [],
       "dbfsResultPath": null,
       "isJsonSchema": true,
       "metadata": {},
       "overflow": false,
       "plotOptions": {
        "customPlotOptions": {},
        "displayType": "table",
        "pivotAggregation": null,
        "pivotColumns": null,
        "xColumns": null,
        "yColumns": null
       },
       "removedWidgets": [],
       "schema": [
        {
         "metadata": "{}",
         "name": "userId",
         "type": "\"long\""
        },
        {
         "metadata": "{}",
         "name": "avarage_word",
         "type": "\"double\""
        }
       ],
       "type": "table"
      }
     },
     "output_type": "display_data"
    }
   ],
   "source": [
    "%sql\n",
    "SELECT userId, \n",
    "      AVG(CHAR_LENGTH(body) - CHAR_LENGTH(REPLACE(body, ' ', '')) + 1) AS avarage_word\n",
    "FROM posts\n",
    "GROUP BY userId\n",
    "ORDER BY avarage_word DESC\n",
    "LIMIT 10;"
   ]
  }
 ],
 "metadata": {
  "application/vnd.databricks.v1+notebook": {
   "computePreferences": null,
   "dashboards": [],
   "environmentMetadata": {
    "base_environment": "",
    "client": "1"
   },
   "language": "python",
   "notebookMetadata": {
    "mostRecentlyExecutedCommandWithImplicitDF": {
     "commandId": 62970080328883,
     "dataframes": [
      "_sqldf"
     ]
    },
    "pythonIndentUnit": 4
   },
   "notebookName": "Spark-SQL 04-03",
   "widgets": {}
  },
  "language_info": {
   "name": "python"
  }
 },
 "nbformat": 4,
 "nbformat_minor": 0
}
